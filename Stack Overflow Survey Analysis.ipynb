{
 "cells": [
  {
   "cell_type": "markdown",
   "metadata": {},
   "source": [
    "# Stack Overflow Survey Analysis with a focus on Venezuela\n",
    "\n",
    "Venezuela is expiriencing one\n",
    "\n",
    "## Some possible questions to answer\n",
    "\n",
    "- At what age does the average developer started coding?\n",
    "- What sort of roles do users have? How much do they earn?\n",
    "- How optimistic about their future are developers?\n",
    "- What was the top blocker for productivity?\n",
    "- How often do users visit Stack Overflow?\n",
    "- What's the education level and professional background of users?\n",
    "- What's the gender breakdown?\n",
    "- What cities are developers coming the most from?\n",
    "- What's the distribution of ages amongst devs?\n",
    "- What are the most popular programming languages?\n",
    "- What is the opinion of developers on Blockchain Technology?\n",
    "- What's the distribution of employment status?\n",
    "- Distribution of company types\n",
    "- What are the roles with the highest salary?\n",
    "- "
   ]
  },
  {
   "cell_type": "code",
   "execution_count": 1,
   "metadata": {},
   "outputs": [],
   "source": [
    "import pandas as pd"
   ]
  },
  {
   "cell_type": "code",
   "execution_count": 8,
   "metadata": {},
   "outputs": [
    {
     "name": "stderr",
     "output_type": "stream",
     "text": [
      "/Users/orlando/anaconda3/lib/python3.6/site-packages/IPython/core/interactiveshell.py:2785: DtypeWarning: Columns (8,12,13,14,15,16,50,51,52,53,55,56,57,58,59,60,61,62,63,64,65,66,67,68,69,70,71,72,73,74,75,76,77,78,79,80,81,82,83,84,85,93,94,95,96,97,98,99,100,101,102,103,104,105,106,107,108,109,110,111,112,113,114,115,116,117,118,119,120,121,122,123,124,125,126,127,128) have mixed types. Specify dtype option on import or set low_memory=False.\n",
      "  interactivity=interactivity, compiler=compiler, result=result)\n"
     ]
    }
   ],
   "source": [
    "df_2017 = pd.read_csv('./datasets/2017/survey_results_public.csv');\n",
    "df_2018 = pd.read_csv('./datasets/2018/survey_results_public.csv');\n",
    "df_2019 = pd.read_csv('./datasets/2019/survey_results_public.csv');"
   ]
  },
  {
   "cell_type": "code",
   "execution_count": 9,
   "metadata": {},
   "outputs": [],
   "source": [
    "sc_2017 = pd.read_csv('./datasets/2017/survey_results_schema.csv');\n",
    "sc_2018 = pd.read_csv('./datasets/2018/survey_results_schema.csv');\n",
    "sc_2019 = pd.read_csv('./datasets/2019/survey_results_schema.csv');"
   ]
  },
  {
   "cell_type": "code",
   "execution_count": 10,
   "metadata": {},
   "outputs": [
    {
     "data": {
      "text/plain": [
       "(51392, 98855, 88883)"
      ]
     },
     "execution_count": 10,
     "metadata": {},
     "output_type": "execute_result"
    }
   ],
   "source": [
    "len(df_2017), len(df_2018), len(df_2019)"
   ]
  },
  {
   "cell_type": "code",
   "execution_count": 12,
   "metadata": {},
   "outputs": [
    {
     "data": {
      "text/plain": [
       "(154, 129, 85)"
      ]
     },
     "execution_count": 12,
     "metadata": {},
     "output_type": "execute_result"
    }
   ],
   "source": [
    "len(sc_2017), len(sc_2018), len(sc_2019)"
   ]
  },
  {
   "cell_type": "code",
   "execution_count": 13,
   "metadata": {},
   "outputs": [
    {
     "data": {
      "text/html": [
       "<div>\n",
       "<style scoped>\n",
       "    .dataframe tbody tr th:only-of-type {\n",
       "        vertical-align: middle;\n",
       "    }\n",
       "\n",
       "    .dataframe tbody tr th {\n",
       "        vertical-align: top;\n",
       "    }\n",
       "\n",
       "    .dataframe thead th {\n",
       "        text-align: right;\n",
       "    }\n",
       "</style>\n",
       "<table border=\"1\" class=\"dataframe\">\n",
       "  <thead>\n",
       "    <tr style=\"text-align: right;\">\n",
       "      <th></th>\n",
       "      <th>Column</th>\n",
       "      <th>QuestionText</th>\n",
       "    </tr>\n",
       "  </thead>\n",
       "  <tbody>\n",
       "    <tr>\n",
       "      <td>0</td>\n",
       "      <td>Respondent</td>\n",
       "      <td>Randomized respondent ID number (not in order ...</td>\n",
       "    </tr>\n",
       "    <tr>\n",
       "      <td>1</td>\n",
       "      <td>MainBranch</td>\n",
       "      <td>Which of the following options best describes ...</td>\n",
       "    </tr>\n",
       "    <tr>\n",
       "      <td>2</td>\n",
       "      <td>Hobbyist</td>\n",
       "      <td>Do you code as a hobby?</td>\n",
       "    </tr>\n",
       "    <tr>\n",
       "      <td>3</td>\n",
       "      <td>OpenSourcer</td>\n",
       "      <td>How often do you contribute to open source?</td>\n",
       "    </tr>\n",
       "    <tr>\n",
       "      <td>4</td>\n",
       "      <td>OpenSource</td>\n",
       "      <td>How do you feel about the quality of open sour...</td>\n",
       "    </tr>\n",
       "  </tbody>\n",
       "</table>\n",
       "</div>"
      ],
      "text/plain": [
       "        Column                                       QuestionText\n",
       "0   Respondent  Randomized respondent ID number (not in order ...\n",
       "1   MainBranch  Which of the following options best describes ...\n",
       "2     Hobbyist                            Do you code as a hobby?\n",
       "3  OpenSourcer        How often do you contribute to open source?\n",
       "4   OpenSource  How do you feel about the quality of open sour..."
      ]
     },
     "execution_count": 13,
     "metadata": {},
     "output_type": "execute_result"
    }
   ],
   "source": [
    "sc_2019.head()"
   ]
  },
  {
   "cell_type": "code",
   "execution_count": 14,
   "metadata": {},
   "outputs": [
    {
     "data": {
      "text/html": [
       "<div>\n",
       "<style scoped>\n",
       "    .dataframe tbody tr th:only-of-type {\n",
       "        vertical-align: middle;\n",
       "    }\n",
       "\n",
       "    .dataframe tbody tr th {\n",
       "        vertical-align: top;\n",
       "    }\n",
       "\n",
       "    .dataframe thead th {\n",
       "        text-align: right;\n",
       "    }\n",
       "</style>\n",
       "<table border=\"1\" class=\"dataframe\">\n",
       "  <thead>\n",
       "    <tr style=\"text-align: right;\">\n",
       "      <th></th>\n",
       "      <th>Column</th>\n",
       "      <th>QuestionText</th>\n",
       "    </tr>\n",
       "  </thead>\n",
       "  <tbody>\n",
       "    <tr>\n",
       "      <td>0</td>\n",
       "      <td>Respondent</td>\n",
       "      <td>Randomized respondent ID number (not in order ...</td>\n",
       "    </tr>\n",
       "    <tr>\n",
       "      <td>1</td>\n",
       "      <td>Hobby</td>\n",
       "      <td>Do you code as a hobby?</td>\n",
       "    </tr>\n",
       "    <tr>\n",
       "      <td>2</td>\n",
       "      <td>OpenSource</td>\n",
       "      <td>Do you contribute to open source projects?</td>\n",
       "    </tr>\n",
       "    <tr>\n",
       "      <td>3</td>\n",
       "      <td>Country</td>\n",
       "      <td>In which country do you currently reside?</td>\n",
       "    </tr>\n",
       "    <tr>\n",
       "      <td>4</td>\n",
       "      <td>Student</td>\n",
       "      <td>Are you currently enrolled in a formal, degree...</td>\n",
       "    </tr>\n",
       "  </tbody>\n",
       "</table>\n",
       "</div>"
      ],
      "text/plain": [
       "       Column                                       QuestionText\n",
       "0  Respondent  Randomized respondent ID number (not in order ...\n",
       "1       Hobby                            Do you code as a hobby?\n",
       "2  OpenSource         Do you contribute to open source projects?\n",
       "3     Country          In which country do you currently reside?\n",
       "4     Student  Are you currently enrolled in a formal, degree..."
      ]
     },
     "execution_count": 14,
     "metadata": {},
     "output_type": "execute_result"
    }
   ],
   "source": [
    "sc_2018.head()"
   ]
  },
  {
   "cell_type": "code",
   "execution_count": 15,
   "metadata": {},
   "outputs": [
    {
     "data": {
      "text/html": [
       "<div>\n",
       "<style scoped>\n",
       "    .dataframe tbody tr th:only-of-type {\n",
       "        vertical-align: middle;\n",
       "    }\n",
       "\n",
       "    .dataframe tbody tr th {\n",
       "        vertical-align: top;\n",
       "    }\n",
       "\n",
       "    .dataframe thead th {\n",
       "        text-align: right;\n",
       "    }\n",
       "</style>\n",
       "<table border=\"1\" class=\"dataframe\">\n",
       "  <thead>\n",
       "    <tr style=\"text-align: right;\">\n",
       "      <th></th>\n",
       "      <th>Column</th>\n",
       "      <th>Question</th>\n",
       "    </tr>\n",
       "  </thead>\n",
       "  <tbody>\n",
       "    <tr>\n",
       "      <td>0</td>\n",
       "      <td>Respondent</td>\n",
       "      <td>Respondent ID number</td>\n",
       "    </tr>\n",
       "    <tr>\n",
       "      <td>1</td>\n",
       "      <td>Professional</td>\n",
       "      <td>Which of the following best describes you?</td>\n",
       "    </tr>\n",
       "    <tr>\n",
       "      <td>2</td>\n",
       "      <td>ProgramHobby</td>\n",
       "      <td>Do you program as a hobby or contribute to ope...</td>\n",
       "    </tr>\n",
       "    <tr>\n",
       "      <td>3</td>\n",
       "      <td>Country</td>\n",
       "      <td>In which country do you currently live?</td>\n",
       "    </tr>\n",
       "    <tr>\n",
       "      <td>4</td>\n",
       "      <td>University</td>\n",
       "      <td>Are you currently enrolled in a formal, degree...</td>\n",
       "    </tr>\n",
       "  </tbody>\n",
       "</table>\n",
       "</div>"
      ],
      "text/plain": [
       "         Column                                           Question\n",
       "0    Respondent                               Respondent ID number\n",
       "1  Professional         Which of the following best describes you?\n",
       "2  ProgramHobby  Do you program as a hobby or contribute to ope...\n",
       "3       Country            In which country do you currently live?\n",
       "4    University  Are you currently enrolled in a formal, degree..."
      ]
     },
     "execution_count": 15,
     "metadata": {},
     "output_type": "execute_result"
    }
   ],
   "source": [
    "sc_2017.head()"
   ]
  },
  {
   "cell_type": "code",
   "execution_count": 22,
   "metadata": {},
   "outputs": [
    {
     "data": {
      "text/plain": [
       "(154, 129, 85)"
      ]
     },
     "execution_count": 22,
     "metadata": {},
     "output_type": "execute_result"
    }
   ],
   "source": [
    "len(sc_2017.Column.unique()), len(sc_2018.Column.unique()), len(sc_2019.Column.unique())"
   ]
  },
  {
   "cell_type": "code",
   "execution_count": 23,
   "metadata": {},
   "outputs": [],
   "source": [
    "common_cols = set(sc_2017.Column.unique()) & set(sc_2018.Column.unique()) & set(sc_2019.Column.unique())"
   ]
  },
  {
   "cell_type": "code",
   "execution_count": 24,
   "metadata": {},
   "outputs": [
    {
     "data": {
      "text/plain": [
       "3"
      ]
     },
     "execution_count": 24,
     "metadata": {},
     "output_type": "execute_result"
    }
   ],
   "source": [
    "len(common_cols)"
   ]
  },
  {
   "cell_type": "code",
   "execution_count": 32,
   "metadata": {},
   "outputs": [
    {
     "data": {
      "text/plain": [
       "array(['Kenya', 'United Kingdom', 'United States', 'South Africa',\n",
       "       'Nigeria', 'India', 'Spain', 'Croatia', 'Netherlands', 'Israel',\n",
       "       'Sweden', 'Chile', 'Australia', 'Greece', 'Poland', 'Belgium',\n",
       "       'Argentina', 'Germany', 'Russian Federation', 'Indonesia',\n",
       "       'Ireland', 'France', 'Ukraine', 'Denmark', 'Dominican Republic',\n",
       "       'China', 'Latvia', 'Algeria', 'Colombia', 'Japan', 'Finland',\n",
       "       'Romania', 'Brazil', 'Bulgaria', 'Iran, Islamic Republic of...',\n",
       "       'Nepal', 'Bangladesh', 'Pakistan', 'Canada', 'Jordan', 'Portugal',\n",
       "       'Italy', 'New Zealand', 'Turkey', 'Czech Republic', 'Viet Nam',\n",
       "       'Austria', 'Egypt', 'Malaysia', 'Mozambique', 'Thailand',\n",
       "       'Slovakia', 'Lebanon', 'Mexico', 'Hong Kong (S.A.R.)', 'Norway',\n",
       "       'Myanmar', 'Switzerland', 'South Korea', 'Hungary', 'Armenia',\n",
       "       'Kazakhstan', 'United Arab Emirates', 'Singapore', 'Qatar',\n",
       "       'Bosnia and Herzegovina', 'Bahrain', 'Sri Lanka', 'Cambodia',\n",
       "       'Serbia', 'Philippines', 'Peru', 'Botswana', 'Paraguay', 'Georgia',\n",
       "       'Uruguay', 'Belarus', 'Lithuania', 'Afghanistan', 'Estonia',\n",
       "       'Malta', 'Costa Rica', 'Ghana', 'Taiwan', 'Morocco', 'Albania',\n",
       "       'Saudi Arabia', 'Slovenia', 'Uzbekistan', 'Republic of Korea',\n",
       "       'El Salvador', 'Iceland', 'Venezuela, Bolivarian Republic of...',\n",
       "       'Nicaragua', 'Other Country (Not Listed Above)', 'Tunisia',\n",
       "       'The former Yugoslav Republic of Macedonia',\n",
       "       'Micronesia, Federated States of...', 'Madagascar', 'Rwanda',\n",
       "       'Yemen', 'Uganda', 'United Republic of Tanzania', 'Cameroon',\n",
       "       'Cuba', 'Ethiopia', 'Oman', 'Ecuador', 'Angola',\n",
       "       'Republic of Moldova', 'Honduras', 'Azerbaijan', 'Cyprus',\n",
       "       'Bhutan', 'Guatemala', 'Syrian Arab Republic', 'Kuwait',\n",
       "       'Luxembourg', 'Jamaica', 'Zimbabwe', 'San Marino', 'Fiji',\n",
       "       'Liechtenstein', 'Burundi', 'Bolivia', 'Mauritius', 'Somalia',\n",
       "       'Montenegro', 'Mongolia', 'Sudan', 'Maldives', 'Turkmenistan',\n",
       "       'Panama', 'Barbados', 'Lesotho', 'Namibia', 'Gabon', 'Kyrgyzstan',\n",
       "       'Swaziland', 'Antigua and Barbuda', 'Marshall Islands',\n",
       "       'Trinidad and Tobago', 'Senegal', 'Iraq', 'Haiti', 'Malawi',\n",
       "       'Benin', 'Libyan Arab Jamahiriya', 'Tajikistan',\n",
       "       'Democratic Republic of the Congo', 'Andorra', 'Guinea',\n",
       "       \"Côte d'Ivoire\", 'Bahamas', 'Central African Republic', 'Monaco',\n",
       "       'Gambia', 'Sierra Leone', 'Togo', 'Palau', 'Zambia', 'Grenada',\n",
       "       'Burkina Faso', 'Belize', 'Congo, Republic of the...', 'Suriname',\n",
       "       'Timor-Leste', 'Dominica', 'Solomon Islands', 'Saint Lucia',\n",
       "       'Niger', 'Guyana', 'Nauru', 'Mauritania', 'Mali', 'Liberia',\n",
       "       'Brunei Darussalam', 'North Korea', 'Cape Verde', 'Eritrea',\n",
       "       \"Democratic People's Republic of Korea\", 'Djibouti', nan,\n",
       "       'Guinea-Bissau'], dtype=object)"
      ]
     },
     "execution_count": 32,
     "metadata": {},
     "output_type": "execute_result"
    }
   ],
   "source": [
    "df_2018.Country.unique()"
   ]
  },
  {
   "cell_type": "code",
   "execution_count": 45,
   "metadata": {},
   "outputs": [],
   "source": [
    "def clean_country(country):\n",
    "    country = str(country)\n",
    "    return 'Venezuela' if 'Venezuela' in country else country"
   ]
  },
  {
   "cell_type": "code",
   "execution_count": 46,
   "metadata": {},
   "outputs": [],
   "source": [
    "df_2017.CleanCountry = df_2017.Country.apply(clean_country);\n",
    "df_2018.CleanCountry = df_2018.Country.apply(clean_country);\n",
    "df_2019.CleanCountry = df_2019.Country.apply(clean_country);"
   ]
  },
  {
   "cell_type": "code",
   "execution_count": 49,
   "metadata": {},
   "outputs": [
    {
     "data": {
      "text/plain": [
       "(59, 123, 88)"
      ]
     },
     "execution_count": 49,
     "metadata": {},
     "output_type": "execute_result"
    }
   ],
   "source": [
    "len(df_2017[df_2017.CleanCountry == 'Venezuela']), len(df_2018[df_2018.CleanCountry == 'Venezuela']), len(df_2019[df_2019.CleanCountry == 'Venezuela'])"
   ]
  },
  {
   "cell_type": "code",
   "execution_count": 25,
   "metadata": {},
   "outputs": [
    {
     "data": {
      "text/plain": [
       "{'Country', 'Gender', 'Respondent'}"
      ]
     },
     "execution_count": 25,
     "metadata": {},
     "output_type": "execute_result"
    }
   ],
   "source": [
    "common_cols"
   ]
  }
 ],
 "metadata": {
  "kernelspec": {
   "display_name": "Python 3",
   "language": "python",
   "name": "python3"
  },
  "language_info": {
   "codemirror_mode": {
    "name": "ipython",
    "version": 3
   },
   "file_extension": ".py",
   "mimetype": "text/x-python",
   "name": "python",
   "nbconvert_exporter": "python",
   "pygments_lexer": "ipython3",
   "version": "3.6.5"
  }
 },
 "nbformat": 4,
 "nbformat_minor": 2
}
