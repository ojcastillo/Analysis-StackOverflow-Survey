{
 "cells": [
  {
   "cell_type": "markdown",
   "metadata": {},
   "source": [
    "# Stack Overflow Survey Analysis\n",
    "\n",
    "[Stack Overflow](http://stackoverflow.com/) is likely the largest and most trusted online community of professional developers in the world today. I'm a Software Engineer myself and I can't think of a week in the past year in which I didn't check it at least once to find an answer to a particular problem I faced. Whenever I run a Google search for a problem, I usually jump at the first stack overflow link provided and chances are I won't have to go anywhere else.\n",
    "\n",
    "Since 2011, Stack Overflow has been running an [Annual Developer](https://insights.stackoverflow.com/survey/) survey that examines all aspects of the developer experience, from career satisfaction and job search to education and opinions on open source software. I learned about it recently, and it immediately sparked my interest as it offers an opportunity to zoom out and learn about current trends in the field I'm part of.\n",
    "\n",
    "Stack Overflow already provides an in-depth analysis of the responses. I examined the [2019 analysis](https://insights.stackoverflow.com/survey/2019) and I thought it was really good, but one thing I would like to have seen is a breakdown of the responses at a continent level. They do provide response counts at this level in the Methodology section, but I didn't find anything else past that. Additionally, I didn't get a sense about how the results compare to previous years.\n",
    "\n",
    "This motivated me to run an analysis of my own in which I zoom out to the continents level and look at the responses for the past 3 years. Based on the kind of responses I found interesting in the surveys, I'll focus on the following questions:\n",
    "\n",
    "- How many responses were received?\n",
    "- What's the distribution of respondent's gender?\n",
    "- What's the distribution of coding years?\n",
    "- What are the most popular programming languages?\n",
    "\n",
    "My goal is to get a sense of how diverse (or uniform) the responses are across the world when looked from certain dimensions that I personally find relevant. Additionally, by looking at past years we can potentially get an idea of some trends in the field."
   ]
  },
  {
   "cell_type": "markdown",
   "metadata": {},
   "source": [
    "## Loading the Data"
   ]
  },
  {
   "cell_type": "markdown",
   "metadata": {},
   "source": [
    "Let's start by importing all the required libraries in a single place:"
   ]
  },
  {
   "cell_type": "code",
   "execution_count": 1,
   "metadata": {},
   "outputs": [],
   "source": [
    "import json\n",
    "\n",
    "from hdx.location.country import Country\n",
    "import matplotlib.pyplot as plt\n",
    "import numpy as np\n",
    "import pandas as pd\n",
    "import seaborn as sns\n",
    "import pycountry_convert as pyc_convert\n",
    "\n",
    "sns.set();\n",
    "sns.set_style(\"whitegrid\");\n",
    "%matplotlib inline"
   ]
  },
  {
   "cell_type": "markdown",
   "metadata": {},
   "source": [
    "Assuming the initial setup instructions from the project [README.md](https://github.com/ojcastillo/StackOverflow-Survey-Analysis/blob/master/README.md#initial-setup) were followed, there should now be a folder `datasets` with the survey results from 2017, 2018 and 2019. With that in place, we can read the data in the following way:"
   ]
  },
  {
   "cell_type": "code",
   "execution_count": 2,
   "metadata": {},
   "outputs": [
    {
     "name": "stdout",
     "output_type": "stream",
     "text": [
      "Loading data for year 2017\n",
      "Loading data for year 2018\n"
     ]
    },
    {
     "name": "stderr",
     "output_type": "stream",
     "text": [
      "/Users/orlando/anaconda3/envs/stackoverflow/lib/python3.7/site-packages/IPython/core/interactiveshell.py:3051: DtypeWarning: Columns (8,12,13,14,15,16,50,51,52,53,55,56,57,58,59,60,61,62,63,64,65,66,67,68,69,70,71,72,73,74,75,76,77,78,79,80,81,82,83,84,85,93,94,95,96,97,98,99,100,101,102,103,104,105,106,107,108,109,110,111,112,113,114,115,116,117,118,119,120,121,122,123,124,125,126,127,128) have mixed types. Specify dtype option on import or set low_memory=False.\n",
      "  interactivity=interactivity, compiler=compiler, result=result)\n"
     ]
    },
    {
     "name": "stdout",
     "output_type": "stream",
     "text": [
      "Loading data for year 2019\n"
     ]
    }
   ],
   "source": [
    "# Load 2017, 2018, and 2019 datasets into a single dictionary\n",
    "datasets = {}\n",
    "for year in (2017, 2018, 2019):\n",
    "    print('Loading data for year', year)\n",
    "    datasets[year] = {\n",
    "        'data': pd.read_csv(f'./datasets/{year}/survey_results_public.csv'),\n",
    "        'schema': pd.read_csv(f'./datasets/{year}/survey_results_schema.csv'),\n",
    "    }"
   ]
  },
  {
   "cell_type": "markdown",
   "metadata": {},
   "source": [
    "We'll ignore the warning when reading the data for 2018 since the values are loaded still (as mentioned [here](https://pandas.pydata.org/pandas-docs/stable/reference/api/pandas.errors.DtypeWarning.html)) and we can clean them later. But let's examine each dataset for validation and get an idea of the kind of data we're dealing with: "
   ]
  },
  {
   "cell_type": "code",
   "execution_count": 3,
   "metadata": {},
   "outputs": [
    {
     "name": "stdout",
     "output_type": "stream",
     "text": [
      "\n",
      "2017 dataset\n",
      "Number of (rows, columns): (51392, 154)\n"
     ]
    },
    {
     "data": {
      "text/html": [
       "<div>\n",
       "<style scoped>\n",
       "    .dataframe tbody tr th:only-of-type {\n",
       "        vertical-align: middle;\n",
       "    }\n",
       "\n",
       "    .dataframe tbody tr th {\n",
       "        vertical-align: top;\n",
       "    }\n",
       "\n",
       "    .dataframe thead th {\n",
       "        text-align: right;\n",
       "    }\n",
       "</style>\n",
       "<table border=\"1\" class=\"dataframe\">\n",
       "  <thead>\n",
       "    <tr style=\"text-align: right;\">\n",
       "      <th></th>\n",
       "      <th>Respondent</th>\n",
       "      <th>Professional</th>\n",
       "      <th>ProgramHobby</th>\n",
       "      <th>Country</th>\n",
       "      <th>University</th>\n",
       "      <th>EmploymentStatus</th>\n",
       "      <th>FormalEducation</th>\n",
       "      <th>MajorUndergrad</th>\n",
       "      <th>HomeRemote</th>\n",
       "      <th>CompanySize</th>\n",
       "      <th>...</th>\n",
       "      <th>StackOverflowMakeMoney</th>\n",
       "      <th>Gender</th>\n",
       "      <th>HighestEducationParents</th>\n",
       "      <th>Race</th>\n",
       "      <th>SurveyLong</th>\n",
       "      <th>QuestionsInteresting</th>\n",
       "      <th>QuestionsConfusing</th>\n",
       "      <th>InterestedAnswers</th>\n",
       "      <th>Salary</th>\n",
       "      <th>ExpectedSalary</th>\n",
       "    </tr>\n",
       "  </thead>\n",
       "  <tbody>\n",
       "    <tr>\n",
       "      <th>0</th>\n",
       "      <td>1</td>\n",
       "      <td>Student</td>\n",
       "      <td>Yes, both</td>\n",
       "      <td>United States</td>\n",
       "      <td>No</td>\n",
       "      <td>Not employed, and not looking for work</td>\n",
       "      <td>Secondary school</td>\n",
       "      <td>NaN</td>\n",
       "      <td>NaN</td>\n",
       "      <td>NaN</td>\n",
       "      <td>...</td>\n",
       "      <td>Strongly disagree</td>\n",
       "      <td>Male</td>\n",
       "      <td>High school</td>\n",
       "      <td>White or of European descent</td>\n",
       "      <td>Strongly disagree</td>\n",
       "      <td>Strongly agree</td>\n",
       "      <td>Disagree</td>\n",
       "      <td>Strongly agree</td>\n",
       "      <td>NaN</td>\n",
       "      <td>NaN</td>\n",
       "    </tr>\n",
       "    <tr>\n",
       "      <th>1</th>\n",
       "      <td>2</td>\n",
       "      <td>Student</td>\n",
       "      <td>Yes, both</td>\n",
       "      <td>United Kingdom</td>\n",
       "      <td>Yes, full-time</td>\n",
       "      <td>Employed part-time</td>\n",
       "      <td>Some college/university study without earning ...</td>\n",
       "      <td>Computer science or software engineering</td>\n",
       "      <td>More than half, but not all, the time</td>\n",
       "      <td>20 to 99 employees</td>\n",
       "      <td>...</td>\n",
       "      <td>Strongly disagree</td>\n",
       "      <td>Male</td>\n",
       "      <td>A master's degree</td>\n",
       "      <td>White or of European descent</td>\n",
       "      <td>Somewhat agree</td>\n",
       "      <td>Somewhat agree</td>\n",
       "      <td>Disagree</td>\n",
       "      <td>Strongly agree</td>\n",
       "      <td>NaN</td>\n",
       "      <td>37500.0</td>\n",
       "    </tr>\n",
       "    <tr>\n",
       "      <th>2</th>\n",
       "      <td>3</td>\n",
       "      <td>Professional developer</td>\n",
       "      <td>Yes, both</td>\n",
       "      <td>United Kingdom</td>\n",
       "      <td>No</td>\n",
       "      <td>Employed full-time</td>\n",
       "      <td>Bachelor's degree</td>\n",
       "      <td>Computer science or software engineering</td>\n",
       "      <td>Less than half the time, but at least one day ...</td>\n",
       "      <td>10,000 or more employees</td>\n",
       "      <td>...</td>\n",
       "      <td>Disagree</td>\n",
       "      <td>Male</td>\n",
       "      <td>A professional degree</td>\n",
       "      <td>White or of European descent</td>\n",
       "      <td>Somewhat agree</td>\n",
       "      <td>Agree</td>\n",
       "      <td>Disagree</td>\n",
       "      <td>Agree</td>\n",
       "      <td>113750.0</td>\n",
       "      <td>NaN</td>\n",
       "    </tr>\n",
       "  </tbody>\n",
       "</table>\n",
       "<p>3 rows × 154 columns</p>\n",
       "</div>"
      ],
      "text/plain": [
       "   Respondent            Professional ProgramHobby         Country  \\\n",
       "0           1                 Student    Yes, both   United States   \n",
       "1           2                 Student    Yes, both  United Kingdom   \n",
       "2           3  Professional developer    Yes, both  United Kingdom   \n",
       "\n",
       "       University                        EmploymentStatus  \\\n",
       "0              No  Not employed, and not looking for work   \n",
       "1  Yes, full-time                      Employed part-time   \n",
       "2              No                      Employed full-time   \n",
       "\n",
       "                                     FormalEducation  \\\n",
       "0                                   Secondary school   \n",
       "1  Some college/university study without earning ...   \n",
       "2                                  Bachelor's degree   \n",
       "\n",
       "                             MajorUndergrad  \\\n",
       "0                                       NaN   \n",
       "1  Computer science or software engineering   \n",
       "2  Computer science or software engineering   \n",
       "\n",
       "                                          HomeRemote  \\\n",
       "0                                                NaN   \n",
       "1              More than half, but not all, the time   \n",
       "2  Less than half the time, but at least one day ...   \n",
       "\n",
       "                CompanySize  ... StackOverflowMakeMoney Gender  \\\n",
       "0                       NaN  ...      Strongly disagree   Male   \n",
       "1        20 to 99 employees  ...      Strongly disagree   Male   \n",
       "2  10,000 or more employees  ...               Disagree   Male   \n",
       "\n",
       "  HighestEducationParents                          Race         SurveyLong  \\\n",
       "0             High school  White or of European descent  Strongly disagree   \n",
       "1       A master's degree  White or of European descent     Somewhat agree   \n",
       "2   A professional degree  White or of European descent     Somewhat agree   \n",
       "\n",
       "  QuestionsInteresting QuestionsConfusing InterestedAnswers    Salary  \\\n",
       "0       Strongly agree           Disagree    Strongly agree       NaN   \n",
       "1       Somewhat agree           Disagree    Strongly agree       NaN   \n",
       "2                Agree           Disagree             Agree  113750.0   \n",
       "\n",
       "   ExpectedSalary  \n",
       "0             NaN  \n",
       "1         37500.0  \n",
       "2             NaN  \n",
       "\n",
       "[3 rows x 154 columns]"
      ]
     },
     "metadata": {},
     "output_type": "display_data"
    },
    {
     "name": "stdout",
     "output_type": "stream",
     "text": [
      "\n",
      "2018 dataset\n",
      "Number of (rows, columns): (98855, 129)\n"
     ]
    },
    {
     "data": {
      "text/html": [
       "<div>\n",
       "<style scoped>\n",
       "    .dataframe tbody tr th:only-of-type {\n",
       "        vertical-align: middle;\n",
       "    }\n",
       "\n",
       "    .dataframe tbody tr th {\n",
       "        vertical-align: top;\n",
       "    }\n",
       "\n",
       "    .dataframe thead th {\n",
       "        text-align: right;\n",
       "    }\n",
       "</style>\n",
       "<table border=\"1\" class=\"dataframe\">\n",
       "  <thead>\n",
       "    <tr style=\"text-align: right;\">\n",
       "      <th></th>\n",
       "      <th>Respondent</th>\n",
       "      <th>Hobby</th>\n",
       "      <th>OpenSource</th>\n",
       "      <th>Country</th>\n",
       "      <th>Student</th>\n",
       "      <th>Employment</th>\n",
       "      <th>FormalEducation</th>\n",
       "      <th>UndergradMajor</th>\n",
       "      <th>CompanySize</th>\n",
       "      <th>DevType</th>\n",
       "      <th>...</th>\n",
       "      <th>Exercise</th>\n",
       "      <th>Gender</th>\n",
       "      <th>SexualOrientation</th>\n",
       "      <th>EducationParents</th>\n",
       "      <th>RaceEthnicity</th>\n",
       "      <th>Age</th>\n",
       "      <th>Dependents</th>\n",
       "      <th>MilitaryUS</th>\n",
       "      <th>SurveyTooLong</th>\n",
       "      <th>SurveyEasy</th>\n",
       "    </tr>\n",
       "  </thead>\n",
       "  <tbody>\n",
       "    <tr>\n",
       "      <th>0</th>\n",
       "      <td>1</td>\n",
       "      <td>Yes</td>\n",
       "      <td>No</td>\n",
       "      <td>Kenya</td>\n",
       "      <td>No</td>\n",
       "      <td>Employed part-time</td>\n",
       "      <td>Bachelor’s degree (BA, BS, B.Eng., etc.)</td>\n",
       "      <td>Mathematics or statistics</td>\n",
       "      <td>20 to 99 employees</td>\n",
       "      <td>Full-stack developer</td>\n",
       "      <td>...</td>\n",
       "      <td>3 - 4 times per week</td>\n",
       "      <td>Male</td>\n",
       "      <td>Straight or heterosexual</td>\n",
       "      <td>Bachelor’s degree (BA, BS, B.Eng., etc.)</td>\n",
       "      <td>Black or of African descent</td>\n",
       "      <td>25 - 34 years old</td>\n",
       "      <td>Yes</td>\n",
       "      <td>NaN</td>\n",
       "      <td>The survey was an appropriate length</td>\n",
       "      <td>Very easy</td>\n",
       "    </tr>\n",
       "    <tr>\n",
       "      <th>1</th>\n",
       "      <td>3</td>\n",
       "      <td>Yes</td>\n",
       "      <td>Yes</td>\n",
       "      <td>United Kingdom</td>\n",
       "      <td>No</td>\n",
       "      <td>Employed full-time</td>\n",
       "      <td>Bachelor’s degree (BA, BS, B.Eng., etc.)</td>\n",
       "      <td>A natural science (ex. biology, chemistry, phy...</td>\n",
       "      <td>10,000 or more employees</td>\n",
       "      <td>Database administrator;DevOps specialist;Full-...</td>\n",
       "      <td>...</td>\n",
       "      <td>Daily or almost every day</td>\n",
       "      <td>Male</td>\n",
       "      <td>Straight or heterosexual</td>\n",
       "      <td>Bachelor’s degree (BA, BS, B.Eng., etc.)</td>\n",
       "      <td>White or of European descent</td>\n",
       "      <td>35 - 44 years old</td>\n",
       "      <td>Yes</td>\n",
       "      <td>NaN</td>\n",
       "      <td>The survey was an appropriate length</td>\n",
       "      <td>Somewhat easy</td>\n",
       "    </tr>\n",
       "    <tr>\n",
       "      <th>2</th>\n",
       "      <td>4</td>\n",
       "      <td>Yes</td>\n",
       "      <td>Yes</td>\n",
       "      <td>United States</td>\n",
       "      <td>No</td>\n",
       "      <td>Employed full-time</td>\n",
       "      <td>Associate degree</td>\n",
       "      <td>Computer science, computer engineering, or sof...</td>\n",
       "      <td>20 to 99 employees</td>\n",
       "      <td>Engineering manager;Full-stack developer</td>\n",
       "      <td>...</td>\n",
       "      <td>NaN</td>\n",
       "      <td>NaN</td>\n",
       "      <td>NaN</td>\n",
       "      <td>NaN</td>\n",
       "      <td>NaN</td>\n",
       "      <td>NaN</td>\n",
       "      <td>NaN</td>\n",
       "      <td>NaN</td>\n",
       "      <td>NaN</td>\n",
       "      <td>NaN</td>\n",
       "    </tr>\n",
       "  </tbody>\n",
       "</table>\n",
       "<p>3 rows × 129 columns</p>\n",
       "</div>"
      ],
      "text/plain": [
       "   Respondent Hobby OpenSource         Country Student          Employment  \\\n",
       "0           1   Yes         No           Kenya      No  Employed part-time   \n",
       "1           3   Yes        Yes  United Kingdom      No  Employed full-time   \n",
       "2           4   Yes        Yes   United States      No  Employed full-time   \n",
       "\n",
       "                            FormalEducation  \\\n",
       "0  Bachelor’s degree (BA, BS, B.Eng., etc.)   \n",
       "1  Bachelor’s degree (BA, BS, B.Eng., etc.)   \n",
       "2                          Associate degree   \n",
       "\n",
       "                                      UndergradMajor  \\\n",
       "0                          Mathematics or statistics   \n",
       "1  A natural science (ex. biology, chemistry, phy...   \n",
       "2  Computer science, computer engineering, or sof...   \n",
       "\n",
       "                CompanySize  \\\n",
       "0        20 to 99 employees   \n",
       "1  10,000 or more employees   \n",
       "2        20 to 99 employees   \n",
       "\n",
       "                                             DevType  ...  \\\n",
       "0                               Full-stack developer  ...   \n",
       "1  Database administrator;DevOps specialist;Full-...  ...   \n",
       "2           Engineering manager;Full-stack developer  ...   \n",
       "\n",
       "                    Exercise Gender         SexualOrientation  \\\n",
       "0       3 - 4 times per week   Male  Straight or heterosexual   \n",
       "1  Daily or almost every day   Male  Straight or heterosexual   \n",
       "2                        NaN    NaN                       NaN   \n",
       "\n",
       "                           EducationParents                 RaceEthnicity  \\\n",
       "0  Bachelor’s degree (BA, BS, B.Eng., etc.)   Black or of African descent   \n",
       "1  Bachelor’s degree (BA, BS, B.Eng., etc.)  White or of European descent   \n",
       "2                                       NaN                           NaN   \n",
       "\n",
       "                 Age Dependents  MilitaryUS  \\\n",
       "0  25 - 34 years old        Yes         NaN   \n",
       "1  35 - 44 years old        Yes         NaN   \n",
       "2                NaN        NaN         NaN   \n",
       "\n",
       "                          SurveyTooLong     SurveyEasy  \n",
       "0  The survey was an appropriate length      Very easy  \n",
       "1  The survey was an appropriate length  Somewhat easy  \n",
       "2                                   NaN            NaN  \n",
       "\n",
       "[3 rows x 129 columns]"
      ]
     },
     "metadata": {},
     "output_type": "display_data"
    },
    {
     "name": "stdout",
     "output_type": "stream",
     "text": [
      "\n",
      "2019 dataset\n",
      "Number of (rows, columns): (88883, 85)\n"
     ]
    },
    {
     "data": {
      "text/html": [
       "<div>\n",
       "<style scoped>\n",
       "    .dataframe tbody tr th:only-of-type {\n",
       "        vertical-align: middle;\n",
       "    }\n",
       "\n",
       "    .dataframe tbody tr th {\n",
       "        vertical-align: top;\n",
       "    }\n",
       "\n",
       "    .dataframe thead th {\n",
       "        text-align: right;\n",
       "    }\n",
       "</style>\n",
       "<table border=\"1\" class=\"dataframe\">\n",
       "  <thead>\n",
       "    <tr style=\"text-align: right;\">\n",
       "      <th></th>\n",
       "      <th>Respondent</th>\n",
       "      <th>MainBranch</th>\n",
       "      <th>Hobbyist</th>\n",
       "      <th>OpenSourcer</th>\n",
       "      <th>OpenSource</th>\n",
       "      <th>Employment</th>\n",
       "      <th>Country</th>\n",
       "      <th>Student</th>\n",
       "      <th>EdLevel</th>\n",
       "      <th>UndergradMajor</th>\n",
       "      <th>...</th>\n",
       "      <th>WelcomeChange</th>\n",
       "      <th>SONewContent</th>\n",
       "      <th>Age</th>\n",
       "      <th>Gender</th>\n",
       "      <th>Trans</th>\n",
       "      <th>Sexuality</th>\n",
       "      <th>Ethnicity</th>\n",
       "      <th>Dependents</th>\n",
       "      <th>SurveyLength</th>\n",
       "      <th>SurveyEase</th>\n",
       "    </tr>\n",
       "  </thead>\n",
       "  <tbody>\n",
       "    <tr>\n",
       "      <th>0</th>\n",
       "      <td>1</td>\n",
       "      <td>I am a student who is learning to code</td>\n",
       "      <td>Yes</td>\n",
       "      <td>Never</td>\n",
       "      <td>The quality of OSS and closed source software ...</td>\n",
       "      <td>Not employed, and not looking for work</td>\n",
       "      <td>United Kingdom</td>\n",
       "      <td>No</td>\n",
       "      <td>Primary/elementary school</td>\n",
       "      <td>NaN</td>\n",
       "      <td>...</td>\n",
       "      <td>Just as welcome now as I felt last year</td>\n",
       "      <td>Tech articles written by other developers;Indu...</td>\n",
       "      <td>14.0</td>\n",
       "      <td>Man</td>\n",
       "      <td>No</td>\n",
       "      <td>Straight / Heterosexual</td>\n",
       "      <td>NaN</td>\n",
       "      <td>No</td>\n",
       "      <td>Appropriate in length</td>\n",
       "      <td>Neither easy nor difficult</td>\n",
       "    </tr>\n",
       "    <tr>\n",
       "      <th>1</th>\n",
       "      <td>2</td>\n",
       "      <td>I am a student who is learning to code</td>\n",
       "      <td>No</td>\n",
       "      <td>Less than once per year</td>\n",
       "      <td>The quality of OSS and closed source software ...</td>\n",
       "      <td>Not employed, but looking for work</td>\n",
       "      <td>Bosnia and Herzegovina</td>\n",
       "      <td>Yes, full-time</td>\n",
       "      <td>Secondary school (e.g. American high school, G...</td>\n",
       "      <td>NaN</td>\n",
       "      <td>...</td>\n",
       "      <td>Just as welcome now as I felt last year</td>\n",
       "      <td>Tech articles written by other developers;Indu...</td>\n",
       "      <td>19.0</td>\n",
       "      <td>Man</td>\n",
       "      <td>No</td>\n",
       "      <td>Straight / Heterosexual</td>\n",
       "      <td>NaN</td>\n",
       "      <td>No</td>\n",
       "      <td>Appropriate in length</td>\n",
       "      <td>Neither easy nor difficult</td>\n",
       "    </tr>\n",
       "    <tr>\n",
       "      <th>2</th>\n",
       "      <td>3</td>\n",
       "      <td>I am not primarily a developer, but I write co...</td>\n",
       "      <td>Yes</td>\n",
       "      <td>Never</td>\n",
       "      <td>The quality of OSS and closed source software ...</td>\n",
       "      <td>Employed full-time</td>\n",
       "      <td>Thailand</td>\n",
       "      <td>No</td>\n",
       "      <td>Bachelor’s degree (BA, BS, B.Eng., etc.)</td>\n",
       "      <td>Web development or web design</td>\n",
       "      <td>...</td>\n",
       "      <td>Just as welcome now as I felt last year</td>\n",
       "      <td>Tech meetups or events in your area;Courses on...</td>\n",
       "      <td>28.0</td>\n",
       "      <td>Man</td>\n",
       "      <td>No</td>\n",
       "      <td>Straight / Heterosexual</td>\n",
       "      <td>NaN</td>\n",
       "      <td>Yes</td>\n",
       "      <td>Appropriate in length</td>\n",
       "      <td>Neither easy nor difficult</td>\n",
       "    </tr>\n",
       "  </tbody>\n",
       "</table>\n",
       "<p>3 rows × 85 columns</p>\n",
       "</div>"
      ],
      "text/plain": [
       "   Respondent                                         MainBranch Hobbyist  \\\n",
       "0           1             I am a student who is learning to code      Yes   \n",
       "1           2             I am a student who is learning to code       No   \n",
       "2           3  I am not primarily a developer, but I write co...      Yes   \n",
       "\n",
       "               OpenSourcer                                         OpenSource  \\\n",
       "0                    Never  The quality of OSS and closed source software ...   \n",
       "1  Less than once per year  The quality of OSS and closed source software ...   \n",
       "2                    Never  The quality of OSS and closed source software ...   \n",
       "\n",
       "                               Employment                 Country  \\\n",
       "0  Not employed, and not looking for work          United Kingdom   \n",
       "1      Not employed, but looking for work  Bosnia and Herzegovina   \n",
       "2                      Employed full-time                Thailand   \n",
       "\n",
       "          Student                                            EdLevel  \\\n",
       "0              No                          Primary/elementary school   \n",
       "1  Yes, full-time  Secondary school (e.g. American high school, G...   \n",
       "2              No           Bachelor’s degree (BA, BS, B.Eng., etc.)   \n",
       "\n",
       "                  UndergradMajor  ...  \\\n",
       "0                            NaN  ...   \n",
       "1                            NaN  ...   \n",
       "2  Web development or web design  ...   \n",
       "\n",
       "                             WelcomeChange  \\\n",
       "0  Just as welcome now as I felt last year   \n",
       "1  Just as welcome now as I felt last year   \n",
       "2  Just as welcome now as I felt last year   \n",
       "\n",
       "                                        SONewContent   Age Gender Trans  \\\n",
       "0  Tech articles written by other developers;Indu...  14.0    Man    No   \n",
       "1  Tech articles written by other developers;Indu...  19.0    Man    No   \n",
       "2  Tech meetups or events in your area;Courses on...  28.0    Man    No   \n",
       "\n",
       "                 Sexuality Ethnicity Dependents           SurveyLength  \\\n",
       "0  Straight / Heterosexual       NaN         No  Appropriate in length   \n",
       "1  Straight / Heterosexual       NaN         No  Appropriate in length   \n",
       "2  Straight / Heterosexual       NaN        Yes  Appropriate in length   \n",
       "\n",
       "                   SurveyEase  \n",
       "0  Neither easy nor difficult  \n",
       "1  Neither easy nor difficult  \n",
       "2  Neither easy nor difficult  \n",
       "\n",
       "[3 rows x 85 columns]"
      ]
     },
     "metadata": {},
     "output_type": "display_data"
    }
   ],
   "source": [
    "# For each year, print the number of (rows, columns) and a sample of 3 rows \n",
    "for year in datasets:\n",
    "    print(f'\\n{year} dataset')\n",
    "    print('Number of (rows, columns):', datasets[year]['data'].shape)\n",
    "    display(datasets[year]['data'].head(3))"
   ]
  },
  {
   "cell_type": "markdown",
   "metadata": {},
   "source": [
    "## Preparing data for analysis\n",
    "\n",
    "Working backwards from the questions that I want to answer, my aim is to construct a single data frame that contains the following dimensions per response:\n",
    "\n",
    "- Year of response\n",
    "- Continent of residence\n",
    "- Gender\n",
    "- Programming languages used\n",
    "- Years coding\n",
    "\n",
    "To kick things off, let's first find out what columns are shared across the datasets already:"
   ]
  },
  {
   "cell_type": "code",
   "execution_count": 4,
   "metadata": {},
   "outputs": [
    {
     "name": "stdout",
     "output_type": "stream",
     "text": [
      "Common column across datasets:  {'Gender', 'Country', 'Respondent'}\n"
     ]
    }
   ],
   "source": [
    "# Construct a set of the column names shared across datasets\n",
    "common_cols = (set(datasets[2017]['schema'].Column) \n",
    "    & set(datasets[2018]['schema'].Column)\n",
    "    & set(datasets[2019]['schema'].Column))\n",
    "print('Common column across datasets: ', common_cols)"
   ]
  },
  {
   "cell_type": "markdown",
   "metadata": {},
   "source": [
    "So country and gender are already common across datasets, and we get year for free as we already divide them that way. Respondent we can potentially use to join new columns later. So let's start by constructing a single dataframe that has year, respondent, country and gender dimensions:"
   ]
  },
  {
   "cell_type": "code",
   "execution_count": 5,
   "metadata": {},
   "outputs": [],
   "source": [
    "def join_datasets_by_year(datasets, columns):\n",
    "    \"\"\"Joins the `columns` of yearly divided `datasets` into a single DataFrame.\n",
    "    \n",
    "    The function assummes the columns provided exist across datasets\n",
    "    to construct a single DataFrame that contains those in addition\n",
    "    to a 'Year' dimension.\n",
    "    \"\"\"\n",
    "    full_df = None\n",
    "    for year in datasets:\n",
    "        year_df = datasets[year]['data'][columns].copy()\n",
    "        year_df['Year'] = year\n",
    "        if full_df is None:\n",
    "            full_df = year_df\n",
    "        else:\n",
    "            full_df = full_df.append(year_df)\n",
    "    return full_df"
   ]
  },
  {
   "cell_type": "code",
   "execution_count": 6,
   "metadata": {},
   "outputs": [
    {
     "name": "stdout",
     "output_type": "stream",
     "text": [
      "Number of rows in new single DataFrame:  239130\n"
     ]
    },
    {
     "data": {
      "text/html": [
       "<div>\n",
       "<style scoped>\n",
       "    .dataframe tbody tr th:only-of-type {\n",
       "        vertical-align: middle;\n",
       "    }\n",
       "\n",
       "    .dataframe tbody tr th {\n",
       "        vertical-align: top;\n",
       "    }\n",
       "\n",
       "    .dataframe thead th {\n",
       "        text-align: right;\n",
       "    }\n",
       "</style>\n",
       "<table border=\"1\" class=\"dataframe\">\n",
       "  <thead>\n",
       "    <tr style=\"text-align: right;\">\n",
       "      <th></th>\n",
       "      <th>Respondent</th>\n",
       "      <th>Country</th>\n",
       "      <th>Gender</th>\n",
       "      <th>Year</th>\n",
       "    </tr>\n",
       "  </thead>\n",
       "  <tbody>\n",
       "    <tr>\n",
       "      <th>0</th>\n",
       "      <td>1</td>\n",
       "      <td>United States</td>\n",
       "      <td>Male</td>\n",
       "      <td>2017</td>\n",
       "    </tr>\n",
       "    <tr>\n",
       "      <th>1</th>\n",
       "      <td>2</td>\n",
       "      <td>United Kingdom</td>\n",
       "      <td>Male</td>\n",
       "      <td>2017</td>\n",
       "    </tr>\n",
       "    <tr>\n",
       "      <th>2</th>\n",
       "      <td>3</td>\n",
       "      <td>United Kingdom</td>\n",
       "      <td>Male</td>\n",
       "      <td>2017</td>\n",
       "    </tr>\n",
       "    <tr>\n",
       "      <th>3</th>\n",
       "      <td>4</td>\n",
       "      <td>United States</td>\n",
       "      <td>Male</td>\n",
       "      <td>2017</td>\n",
       "    </tr>\n",
       "    <tr>\n",
       "      <th>4</th>\n",
       "      <td>5</td>\n",
       "      <td>Switzerland</td>\n",
       "      <td>NaN</td>\n",
       "      <td>2017</td>\n",
       "    </tr>\n",
       "  </tbody>\n",
       "</table>\n",
       "</div>"
      ],
      "text/plain": [
       "   Respondent         Country Gender  Year\n",
       "0           1   United States   Male  2017\n",
       "1           2  United Kingdom   Male  2017\n",
       "2           3  United Kingdom   Male  2017\n",
       "3           4   United States   Male  2017\n",
       "4           5     Switzerland    NaN  2017"
      ]
     },
     "execution_count": 6,
     "metadata": {},
     "output_type": "execute_result"
    }
   ],
   "source": [
    "# Used the above function to generate a single dataframe with the common columns\n",
    "full_df = join_datasets_by_year(datasets, ['Respondent', 'Country', 'Gender'])\n",
    "print('Number of rows in new single DataFrame: ', full_df.shape[0])\n",
    "full_df.head()"
   ]
  },
  {
   "cell_type": "markdown",
   "metadata": {},
   "source": [
    "From country we can get continent, and gender we can hopefully use after some cleaning. For the rest of columns, we'll have to  examine the non-overlapping columns to figure out what to do."
   ]
  },
  {
   "cell_type": "markdown",
   "metadata": {},
   "source": [
    "### Adding a continent dimension"
   ]
  },
  {
   "cell_type": "markdown",
   "metadata": {},
   "source": [
    "To determine the continent from a country, I plan to use the [pycountry-convert](https://github.com/jefftune/pycountry-convert) library. But first I need to determine the [ISO 3166-1 alpha-2](https://en.wikipedia.org/wiki/ISO_3166-1_alpha-2) for each country, and for that part of the problem I'll use [hdx-python-country](https://github.com/OCHA-DAP/hdx-python-country) as it offers a powerful fuzzy search.\n",
    "\n",
    "The class below implements all the logic necessary to make this happen, being careful about caching results. Also, it provides mapping to the countries the libraries failed to map:"
   ]
  },
  {
   "cell_type": "code",
   "execution_count": 7,
   "metadata": {},
   "outputs": [],
   "source": [
    "class ContinentLookup():\n",
    "    \"\"\"Allows looking up for continents given a country name.\n",
    "    \n",
    "    Internally the class takes advantage of the hdx-python-country fuzzy search to infer\n",
    "    the ISO 2 code of the country. It then uses pycountry-convert to convert to a two\n",
    "    letter continent code. It additionally mantains a local mapping for regions for which\n",
    "    the libraries failed to map.\n",
    "    \"\"\"\n",
    "    \n",
    "    # Except for Antartica, the mapping was extracted by searching for \n",
    "    # the country ISO 2 code online and then mapping to continent using \n",
    "    # the function Country.get_country_info_from_iso2 to get the region\n",
    "    MANUAL_CONTINENT_MAPPING = {\n",
    "        'moldavia': 'EU',\n",
    "        'azerbaidjan': 'AS',\n",
    "        'antarctica': 'AN',\n",
    "        'u.s. minor outlying islands': 'NA',\n",
    "        'tadjikistan': 'AS',\n",
    "        'timor-leste': 'AS',\n",
    "        'pitcairn island': 'EU',\n",
    "        'vatican city state': 'EU',\n",
    "    }\n",
    "    \n",
    "    # Manual mapping of 2 code continents to their full identifiers\n",
    "    CODE_TO_CONTINENT_MAPPING = {\n",
    "        'AF': 'Africa',\n",
    "        'EU': 'Europe',\n",
    "        'AS': 'Asia',\n",
    "        'NA': 'North America',\n",
    "        'SA': 'South America',\n",
    "        'OC': 'Oceania',\n",
    "        'AN': 'Antartica',\n",
    "    }\n",
    "\n",
    "    def __init__(self):\n",
    "        \"\"\"Init that sets up an empty cache for continent lookups.\"\"\"\n",
    "        self.lookup_cache = {}\n",
    "    \n",
    "    def infer_country_iso2(self, country):\n",
    "        \"\"\"Try to infer ISO 2 country code from a `country` name.\"\"\"\n",
    "        iso3 = Country.get_iso3_country_code_fuzzy(country)[0]\n",
    "        return None if iso3 is None else Country.get_iso2_from_iso3(iso3)\n",
    "    \n",
    "    def infer_continent(self, country):\n",
    "        \"\"\"Try to infer continent from a `country` name, or returns 'Undefined' if it fails.\"\"\"\n",
    "        clower = country.lower()\n",
    "        if clower in self.lookup_cache:\n",
    "            return self.lookup_cache[clower]\n",
    "\n",
    "        if clower in self.MANUAL_CONTINENT_MAPPING:\n",
    "            self.lookup_cache[clower] = self.MANUAL_CONTINENT_MAPPING[clower]\n",
    "        else:\n",
    "            alpha_2 = self.infer_country_iso2(country)\n",
    "            self.lookup_cache[clower] = 'Undefined'\n",
    "            if alpha_2 is not None:\n",
    "                try:\n",
    "                    self.lookup_cache[clower] = pyc_convert.country_alpha2_to_continent_code(alpha_2)\n",
    "                except KeyError:\n",
    "                    pass\n",
    "        self.lookup_cache[clower] = self.CODE_TO_CONTINENT_MAPPING.get(self.lookup_cache[clower], 'Undefined')\n",
    "        return self.lookup_cache[clower]"
   ]
  },
  {
   "cell_type": "code",
   "execution_count": 8,
   "metadata": {},
   "outputs": [
    {
     "data": {
      "text/html": [
       "<div>\n",
       "<style scoped>\n",
       "    .dataframe tbody tr th:only-of-type {\n",
       "        vertical-align: middle;\n",
       "    }\n",
       "\n",
       "    .dataframe tbody tr th {\n",
       "        vertical-align: top;\n",
       "    }\n",
       "\n",
       "    .dataframe thead th {\n",
       "        text-align: right;\n",
       "    }\n",
       "</style>\n",
       "<table border=\"1\" class=\"dataframe\">\n",
       "  <thead>\n",
       "    <tr style=\"text-align: right;\">\n",
       "      <th></th>\n",
       "      <th>Respondent</th>\n",
       "      <th>Country</th>\n",
       "      <th>Gender</th>\n",
       "      <th>Year</th>\n",
       "      <th>Continent</th>\n",
       "    </tr>\n",
       "  </thead>\n",
       "  <tbody>\n",
       "    <tr>\n",
       "      <th>0</th>\n",
       "      <td>1</td>\n",
       "      <td>United States</td>\n",
       "      <td>Male</td>\n",
       "      <td>2017</td>\n",
       "      <td>North America</td>\n",
       "    </tr>\n",
       "    <tr>\n",
       "      <th>1</th>\n",
       "      <td>2</td>\n",
       "      <td>United Kingdom</td>\n",
       "      <td>Male</td>\n",
       "      <td>2017</td>\n",
       "      <td>Europe</td>\n",
       "    </tr>\n",
       "    <tr>\n",
       "      <th>2</th>\n",
       "      <td>3</td>\n",
       "      <td>United Kingdom</td>\n",
       "      <td>Male</td>\n",
       "      <td>2017</td>\n",
       "      <td>Europe</td>\n",
       "    </tr>\n",
       "    <tr>\n",
       "      <th>3</th>\n",
       "      <td>4</td>\n",
       "      <td>United States</td>\n",
       "      <td>Male</td>\n",
       "      <td>2017</td>\n",
       "      <td>North America</td>\n",
       "    </tr>\n",
       "    <tr>\n",
       "      <th>4</th>\n",
       "      <td>5</td>\n",
       "      <td>Switzerland</td>\n",
       "      <td>NaN</td>\n",
       "      <td>2017</td>\n",
       "      <td>Europe</td>\n",
       "    </tr>\n",
       "  </tbody>\n",
       "</table>\n",
       "</div>"
      ],
      "text/plain": [
       "   Respondent         Country Gender  Year      Continent\n",
       "0           1   United States   Male  2017  North America\n",
       "1           2  United Kingdom   Male  2017         Europe\n",
       "2           3  United Kingdom   Male  2017         Europe\n",
       "3           4   United States   Male  2017  North America\n",
       "4           5     Switzerland    NaN  2017         Europe"
      ]
     },
     "execution_count": 8,
     "metadata": {},
     "output_type": "execute_result"
    }
   ],
   "source": [
    "# Use the class defined above to add a new Continent column\n",
    "continent_lookup = ContinentLookup()\n",
    "full_df['Continent'] = full_df['Country'].apply(lambda c: continent_lookup.infer_continent(str(c)));\n",
    "full_df.head()"
   ]
  },
  {
   "cell_type": "markdown",
   "metadata": {},
   "source": [
    "As a sanity check, let's get a breakdown of counts per continent:"
   ]
  },
  {
   "cell_type": "code",
   "execution_count": 9,
   "metadata": {},
   "outputs": [
    {
     "data": {
      "text/plain": [
       "Europe           97043\n",
       "North America    64859\n",
       "Asia             54015\n",
       "South America     9314\n",
       "Africa            6749\n",
       "Oceania           6232\n",
       "Undefined          904\n",
       "Antartica           14\n",
       "Name: Continent, dtype: int64"
      ]
     },
     "execution_count": 9,
     "metadata": {},
     "output_type": "execute_result"
    }
   ],
   "source": [
    "full_df['Continent'].value_counts()"
   ]
  },
  {
   "cell_type": "markdown",
   "metadata": {},
   "source": [
    "So despite my best efforts, we still have 904 undefined continents. Luckily, that represents less than 1% of the total of 239130 rows. Let's examine those country responses to confirm there's nothing more we can do:"
   ]
  },
  {
   "cell_type": "code",
   "execution_count": 10,
   "metadata": {},
   "outputs": [
    {
     "name": "stdout",
     "output_type": "stream",
     "text": [
      "['I prefer not to say' 'Other Country (Not Listed Above)' nan]\n"
     ]
    }
   ],
   "source": [
    "print(full_df[full_df.Continent == 'Undefined']['Country'].unique())"
   ]
  },
  {
   "cell_type": "markdown",
   "metadata": {},
   "source": [
    "So only the cases for which we actually don't have a country are the one that have no continent defined. Is possible some other responses in the survey could be used to infer a country, but I consider that out of scope for this analysis."
   ]
  },
  {
   "cell_type": "markdown",
   "metadata": {},
   "source": [
    "### Cleaning the gender column \n",
    "\n",
    "Let's get a breakdown of gender values per year:"
   ]
  },
  {
   "cell_type": "code",
   "execution_count": 11,
   "metadata": {},
   "outputs": [
    {
     "data": {
      "text/plain": [
       "Year  Gender                                                                   \n",
       "2017  Female                                                                        2600\n",
       "      Female; Gender non-conforming                                                   29\n",
       "      Female; Gender non-conforming; Other                                             1\n",
       "      Female; Other                                                                    1\n",
       "      Female; Transgender                                                             56\n",
       "      Female; Transgender; Gender non-conforming                                       8\n",
       "      Female; Transgender; Gender non-conforming; Other                                1\n",
       "      Female; Transgender; Other                                                       1\n",
       "      Gender non-conforming                                                          160\n",
       "      Gender non-conforming; Other                                                     4\n",
       "      Male                                                                         31589\n",
       "      Male; Female                                                                    15\n",
       "      Male; Female; Gender non-conforming                                              1\n",
       "      Male; Female; Gender non-conforming; Other                                       1\n",
       "      Male; Female; Other                                                              2\n",
       "      Male; Female; Transgender                                                        4\n",
       "      Male; Female; Transgender; Gender non-conforming                                 7\n",
       "      Male; Female; Transgender; Gender non-conforming; Other                         15\n",
       "      Male; Female; Transgender; Other                                                 1\n",
       "      Male; Gender non-conforming                                                     65\n",
       "      Male; Gender non-conforming; Other                                               3\n",
       "      Male; Other                                                                    171\n",
       "      Male; Transgender                                                               11\n",
       "      Male; Transgender; Gender non-conforming                                         4\n",
       "      Male; Transgender; Other                                                         1\n",
       "      Other                                                                          225\n",
       "      Transgender                                                                     55\n",
       "      Transgender; Gender non-conforming                                              15\n",
       "      Transgender; Other                                                               1\n",
       "2018  Female                                                                        4025\n",
       "      Female;Male                                                                     98\n",
       "      Female;Male;Non-binary, genderqueer, or gender non-conforming                    3\n",
       "      Female;Male;Transgender                                                         14\n",
       "      Female;Male;Transgender;Non-binary, genderqueer, or gender non-conforming       50\n",
       "      Female;Non-binary, genderqueer, or gender non-conforming                        50\n",
       "      Female;Transgender                                                             145\n",
       "      Female;Transgender;Non-binary, genderqueer, or gender non-conforming            24\n",
       "      Male                                                                         59458\n",
       "      Male;Non-binary, genderqueer, or gender non-conforming                         128\n",
       "      Male;Transgender                                                                29\n",
       "      Male;Transgender;Non-binary, genderqueer, or gender non-conforming               5\n",
       "      Non-binary, genderqueer, or gender non-conforming                              284\n",
       "      Transgender                                                                    105\n",
       "      Transgender;Non-binary, genderqueer, or gender non-conforming                   51\n",
       "2019  Man                                                                          77919\n",
       "      Man;Non-binary, genderqueer, or gender non-conforming                          181\n",
       "      Non-binary, genderqueer, or gender non-conforming                              597\n",
       "      Woman                                                                         6344\n",
       "      Woman;Man                                                                      132\n",
       "      Woman;Man;Non-binary, genderqueer, or gender non-conforming                     70\n",
       "      Woman;Non-binary, genderqueer, or gender non-conforming                        163\n",
       "dtype: int64"
      ]
     },
     "execution_count": 11,
     "metadata": {},
     "output_type": "execute_result"
    }
   ],
   "source": [
    "full_df.groupby(['Year', 'Gender']).size()"
   ]
  },
  {
   "cell_type": "markdown",
   "metadata": {},
   "source": [
    "So we have responses with multiple genders specified. Luckily it looks like the same separator is used across, so that means we should be able to extract each individual gender. I'm thinking of creating extra boolean columns for each of these genders instead of managing a single column, that should make it easier to get counts for each group later.\n",
    "\n",
    "First, let's get the set of possible genders in the answers:"
   ]
  },
  {
   "cell_type": "code",
   "execution_count": 12,
   "metadata": {},
   "outputs": [],
   "source": [
    "def extract_uniques(array_of_values, sep=';'):\n",
    "    \"\"\"Extracts the set of values in `array_of_values`, assuming they're separated by `sep`\"\"\"\n",
    "    return set() if pd.isna(array_of_values) else {val.strip() for val in array_of_values.split(sep)}"
   ]
  },
  {
   "cell_type": "code",
   "execution_count": 13,
   "metadata": {},
   "outputs": [
    {
     "name": "stdout",
     "output_type": "stream",
     "text": [
      "Unique gender values:  {'Non-binary, genderqueer, or gender non-conforming', 'Gender non-conforming', 'Man', 'Male', 'Female', 'Woman', 'Other', 'Transgender'}\n"
     ]
    }
   ],
   "source": [
    "# Use the above function to extract the unique set of gender values\n",
    "gender_set = set()\n",
    "for row in full_df['Gender']:\n",
    "    gender_set |= extract_uniques(row)\n",
    "print('Unique gender values: ', gender_set)"
   ]
  },
  {
   "cell_type": "markdown",
   "metadata": {},
   "source": [
    "Some columns look redundant to me personally, e.g. Male is the same as Man. Taking that into account, let's expand the data frame with the following columns: `Gender_Female`, `Gender_Non_Conforming`, `Gender_Male`, `Gender_Other`, and `Gender_Transgender`.\n",
    "\n",
    "Because of the potential for multiple values in a row, then we can't use [pandas.get_dummies](https://pandas.pydata.org/pandas-docs/stable/reference/api/pandas.get_dummies.html) directly. Instead I'll iterate over all rows to do what I want (the code below is expected to take a couple of minutes to run):"
   ]
  },
  {
   "cell_type": "code",
   "execution_count": 14,
   "metadata": {},
   "outputs": [],
   "source": [
    "def explode_column(df, column, mapping, sep=';', prefix=None):\n",
    "    \"\"\"Create boolean columns from another one that can contain an array of values.\n",
    "    \n",
    "    Given a `column` in which a list of values are potentially given per-row\n",
    "    separated by the `sep` character, the function will use the `mapping`\n",
    "    dict to mark the corresponding new column as True when the value is present.\n",
    "    The new columns generated will be of the form '<prefix>_<suffix>', where\n",
    "    `prefix` is `prefix` or `column` if that's NONE, and `suffix` are all the keys\n",
    "    in the `mapping` dictionary.\n",
    "    \"\"\"\n",
    "    \n",
    "    # Use the column name as prefix if none given\n",
    "    if prefix is None:\n",
    "        prefix = column\n",
    "\n",
    "    # Create the columns with a default of False for all of them\n",
    "    new_columns = [f'{prefix}_{suffix}' for suffix in mapping.keys()] \n",
    "    for col in new_columns:\n",
    "        df[col] = False\n",
    "    \n",
    "    # Create the inverse value to column mapping to make the incoming transformation easier\n",
    "    inverse_mapping = {}\n",
    "    for suffix, values in mapping.items():\n",
    "        for value in values:\n",
    "            inverse_mapping[value] = f'{prefix}_{suffix}'\n",
    "    \n",
    "    # Now set to True each of the columns identified in the row\n",
    "    def _transform_row(row):\n",
    "        for value in extract_uniques(row[column], sep):\n",
    "            row[inverse_mapping[value]] = True\n",
    "        return row\n",
    "    return df.apply(lambda row: _transform_row(row), axis=1)"
   ]
  },
  {
   "cell_type": "code",
   "execution_count": 15,
   "metadata": {},
   "outputs": [
    {
     "data": {
      "text/html": [
       "<div>\n",
       "<style scoped>\n",
       "    .dataframe tbody tr th:only-of-type {\n",
       "        vertical-align: middle;\n",
       "    }\n",
       "\n",
       "    .dataframe tbody tr th {\n",
       "        vertical-align: top;\n",
       "    }\n",
       "\n",
       "    .dataframe thead th {\n",
       "        text-align: right;\n",
       "    }\n",
       "</style>\n",
       "<table border=\"1\" class=\"dataframe\">\n",
       "  <thead>\n",
       "    <tr style=\"text-align: right;\">\n",
       "      <th></th>\n",
       "      <th>Respondent</th>\n",
       "      <th>Country</th>\n",
       "      <th>Gender</th>\n",
       "      <th>Year</th>\n",
       "      <th>Continent</th>\n",
       "      <th>Gender_Female</th>\n",
       "      <th>Gender_Male</th>\n",
       "      <th>Gender_Non_Conforming</th>\n",
       "      <th>Gender_Transgender</th>\n",
       "      <th>Gender_Other</th>\n",
       "    </tr>\n",
       "  </thead>\n",
       "  <tbody>\n",
       "    <tr>\n",
       "      <th>0</th>\n",
       "      <td>1</td>\n",
       "      <td>United States</td>\n",
       "      <td>Male</td>\n",
       "      <td>2017</td>\n",
       "      <td>North America</td>\n",
       "      <td>False</td>\n",
       "      <td>True</td>\n",
       "      <td>False</td>\n",
       "      <td>False</td>\n",
       "      <td>False</td>\n",
       "    </tr>\n",
       "    <tr>\n",
       "      <th>1</th>\n",
       "      <td>2</td>\n",
       "      <td>United Kingdom</td>\n",
       "      <td>Male</td>\n",
       "      <td>2017</td>\n",
       "      <td>Europe</td>\n",
       "      <td>False</td>\n",
       "      <td>True</td>\n",
       "      <td>False</td>\n",
       "      <td>False</td>\n",
       "      <td>False</td>\n",
       "    </tr>\n",
       "    <tr>\n",
       "      <th>2</th>\n",
       "      <td>3</td>\n",
       "      <td>United Kingdom</td>\n",
       "      <td>Male</td>\n",
       "      <td>2017</td>\n",
       "      <td>Europe</td>\n",
       "      <td>False</td>\n",
       "      <td>True</td>\n",
       "      <td>False</td>\n",
       "      <td>False</td>\n",
       "      <td>False</td>\n",
       "    </tr>\n",
       "    <tr>\n",
       "      <th>3</th>\n",
       "      <td>4</td>\n",
       "      <td>United States</td>\n",
       "      <td>Male</td>\n",
       "      <td>2017</td>\n",
       "      <td>North America</td>\n",
       "      <td>False</td>\n",
       "      <td>True</td>\n",
       "      <td>False</td>\n",
       "      <td>False</td>\n",
       "      <td>False</td>\n",
       "    </tr>\n",
       "    <tr>\n",
       "      <th>4</th>\n",
       "      <td>5</td>\n",
       "      <td>Switzerland</td>\n",
       "      <td>NaN</td>\n",
       "      <td>2017</td>\n",
       "      <td>Europe</td>\n",
       "      <td>False</td>\n",
       "      <td>False</td>\n",
       "      <td>False</td>\n",
       "      <td>False</td>\n",
       "      <td>False</td>\n",
       "    </tr>\n",
       "  </tbody>\n",
       "</table>\n",
       "</div>"
      ],
      "text/plain": [
       "   Respondent         Country Gender  Year      Continent  Gender_Female  \\\n",
       "0           1   United States   Male  2017  North America          False   \n",
       "1           2  United Kingdom   Male  2017         Europe          False   \n",
       "2           3  United Kingdom   Male  2017         Europe          False   \n",
       "3           4   United States   Male  2017  North America          False   \n",
       "4           5     Switzerland    NaN  2017         Europe          False   \n",
       "\n",
       "   Gender_Male  Gender_Non_Conforming  Gender_Transgender  Gender_Other  \n",
       "0         True                  False               False         False  \n",
       "1         True                  False               False         False  \n",
       "2         True                  False               False         False  \n",
       "3         True                  False               False         False  \n",
       "4        False                  False               False         False  "
      ]
     },
     "execution_count": 15,
     "metadata": {},
     "output_type": "execute_result"
    }
   ],
   "source": [
    "# Use the above function to generate new boolean columns for each gender value\n",
    "column_to_values_map = {\n",
    "    'Female': ['Female', 'Woman'],\n",
    "    'Male': ['Male', 'Man'], \n",
    "    'Non_Conforming': ['Gender non-conforming', 'Non-binary, genderqueer, or gender non-conforming'],\n",
    "    'Transgender': ['Transgender'],\n",
    "    'Other': ['Other'],\n",
    "}\n",
    "\n",
    "exploded_df = explode_column(full_df, 'Gender', column_to_values_map)\n",
    "exploded_df.head()"
   ]
  },
  {
   "cell_type": "markdown",
   "metadata": {},
   "source": [
    "### Adding remaining columns\n",
    "\n",
    "I still need to find a way to extract the following dimensions:\n",
    "\n",
    "- Programming languages used\n",
    "- Years coding\n",
    "\n",
    "And for that, I'll need to get more familiar with the rest of the questions in the survey. Given how many columns each of the datasets have, I'll try to reduce the search effort with a substring matching given a list of keywords:"
   ]
  },
  {
   "cell_type": "code",
   "execution_count": 16,
   "metadata": {},
   "outputs": [],
   "source": [
    "def find_candidate_questions(schema, keywords):\n",
    "    \"\"\"Find the subset of `schema` column names that have at leas one of the `keywords` as substring\"\"\"\n",
    "    keywords = [keyword.lower() for keyword in keywords]\n",
    "    candidates = []\n",
    "    for idx, row in schema.iterrows():\n",
    "        for keyword in keywords:\n",
    "            if keyword in row['Column'].lower():\n",
    "                candidates.append(row['Column'])\n",
    "                break\n",
    "    return list(candidates)"
   ]
  },
  {
   "cell_type": "code",
   "execution_count": 17,
   "metadata": {},
   "outputs": [
    {
     "name": "stdout",
     "output_type": "stream",
     "text": [
      "\n",
      "Potential columns to examine from the 2017 survey: ['CheckInCode', 'ExCoder10Years', 'ExCoderActive', 'ExCoderBalance', 'ExCoderBelonged', 'ExCoderNotForMe', 'ExCoderReturn', 'ExCoderSkills', 'ExCoderWillNotCode', 'HaveWorkedLanguage', 'OtherPeoplesCode', 'ProgramHobby', 'StackOverflowCopiedCode', 'WantWorkLanguage', 'YearsCodedJob', 'YearsCodedJobPast', 'YearsProgram']\n",
      "\n",
      "Potential columns to examine from the 2018 survey: ['CheckInCode', 'DatabaseDesireNextYear', 'FrameworkDesireNextYear', 'HopeFiveYears', 'LanguageDesireNextYear', 'LanguageWorkedWith', 'PlatformDesireNextYear', 'YearsCoding', 'YearsCodingProf']\n",
      "\n",
      "Potential columns to examine from the 2019 survey: ['Age1stCode', 'CodeRev', 'CodeRevHrs', 'DatabaseDesireNextYear', 'LanguageDesireNextYear', 'LanguageWorkedWith', 'MiscTechDesireNextYear', 'PlatformDesireNextYear', 'WebFrameDesireNextYear', 'YearsCode', 'YearsCodePro']\n"
     ]
    }
   ],
   "source": [
    "# Use the above function to find questions that might tell us about years of coding \n",
    "# and programming languages used\n",
    "keywords = ['program', 'cod', 'language', 'year']\n",
    "for year in datasets:\n",
    "    candidates = sorted(find_candidate_questions(datasets[year]['schema'], keywords))\n",
    "    print(f'\\nPotential columns to examine from the {year} survey: {candidates}')"
   ]
  },
  {
   "cell_type": "markdown",
   "metadata": {},
   "source": [
    "From all of these, I think `LanguageWorkedWith`, `HaveWorkedLanguage`, `YearsProgram`, `YearsCodedJob`, `YearsCoding`, and `YearsCode` have potential. Let's examine those more closely:"
   ]
  },
  {
   "cell_type": "code",
   "execution_count": 18,
   "metadata": {},
   "outputs": [],
   "source": [
    "def extract_question_txt(schema, column):\n",
    "    \"\"\"Extract the question description from a dataset schema\"\"\"\n",
    "    try:\n",
    "        txt = schema[schema.Column == column].QuestionText\n",
    "    except:\n",
    "        txt = schema[schema.Column == column].Question\n",
    "    return list(txt)[0]"
   ]
  },
  {
   "cell_type": "code",
   "execution_count": 19,
   "metadata": {},
   "outputs": [
    {
     "name": "stdout",
     "output_type": "stream",
     "text": [
      "\n",
      "Full description for HaveWorkedLanguage question from 2017: \"Which of the following languages have you done extensive development work in over the past year, and which do you want to work in over the next year?\"\n",
      "Sample rows: ['Swift', 'JavaScript; Python; Ruby; SQL', 'Java; PHP; Python']\n",
      "\n",
      "Full description for YearsProgram question from 2017: \"How long has it been since you first learned how to program?\"\n",
      "Sample rows: ['2 to 3 years', '9 to 10 years', '20 or more years']\n",
      "\n",
      "Full description for YearsCodedJob question from 2017: \"For how many years have you coded as part of your job?\"\n",
      "Sample rows: [nan, nan, '20 or more years']\n",
      "\n",
      "Full description for LanguageWorkedWith question from 2018: \"Which of the following programming, scripting, and markup languages have you done extensive development work in over the past year, and which do you want to work in over the next year?  (If you both worked with the language and want to continue to do so, please check both boxes in that row.)\"\n",
      "Sample rows: ['JavaScript;Python;HTML;CSS', 'JavaScript;Python;Bash/Shell', nan]\n",
      "\n",
      "Full description for YearsCoding question from 2018: \"Including any education, for how many years have you been coding?\"\n",
      "Sample rows: ['3-5 years', '30 or more years', '24-26 years']\n",
      "\n",
      "Full description for LanguageWorkedWith question from 2019: \"Which of the following programming, scripting, and markup languages have you done extensive development work in over the past year, and which do you want to work in over the next year?  (If you both worked with the language and want to continue to do so, please check both boxes in that row.)\"\n",
      "Sample rows: ['HTML/CSS;Java;JavaScript;Python', 'C++;HTML/CSS;Python', 'HTML/CSS']\n",
      "\n",
      "Full description for YearsCode question from 2019: \"Including any education, how many years have you been coding?\"\n",
      "Sample rows: ['4', nan, '3']\n"
     ]
    }
   ],
   "source": [
    "# Use the above function to get a full description of relevant survey questions\n",
    "column_mapping = [\n",
    "    (2017, 'HaveWorkedLanguage'),\n",
    "    (2017, 'YearsProgram'),\n",
    "    (2017, 'YearsCodedJob'),\n",
    "    (2018, 'LanguageWorkedWith'),\n",
    "    (2018, 'YearsCoding'),\n",
    "    (2019, 'LanguageWorkedWith'),\n",
    "    (2019, 'YearsCode'),\n",
    "]\n",
    "for year, col in column_mapping:\n",
    "    description = extract_question_txt(datasets[year][\"schema\"], col)\n",
    "    print(f'\\nFull description for {col} question from {year}: \"{description}\"')\n",
    "    print('Sample rows:', list(datasets[year]['data'][col])[:3])"
   ]
  },
  {
   "cell_type": "markdown",
   "metadata": {},
   "source": [
    "Looks like this is the right set of responses and they look roughly consistent across datasets. In particular, I'll use both `HaveWorkedLanguage` and `LanguageWorkedWith` for extracting programming languages used, and `YearsProgram`, `YearsCoding` and `YearsCode` for learning about how many years of total coding.\n",
    "\n",
    "Let's first join these columns into the single dataframe, taking advantage of past functions to make it easier:"
   ]
  },
  {
   "cell_type": "code",
   "execution_count": 20,
   "metadata": {},
   "outputs": [
    {
     "name": "stdout",
     "output_type": "stream",
     "text": [
      "Size of new intermidiate dataframe: (239130, 4)\n"
     ]
    },
    {
     "data": {
      "text/html": [
       "<div>\n",
       "<style scoped>\n",
       "    .dataframe tbody tr th:only-of-type {\n",
       "        vertical-align: middle;\n",
       "    }\n",
       "\n",
       "    .dataframe tbody tr th {\n",
       "        vertical-align: top;\n",
       "    }\n",
       "\n",
       "    .dataframe thead th {\n",
       "        text-align: right;\n",
       "    }\n",
       "</style>\n",
       "<table border=\"1\" class=\"dataframe\">\n",
       "  <thead>\n",
       "    <tr style=\"text-align: right;\">\n",
       "      <th></th>\n",
       "      <th>Respondent</th>\n",
       "      <th>LanguageWorkedWith</th>\n",
       "      <th>YearsCoding</th>\n",
       "      <th>Year</th>\n",
       "    </tr>\n",
       "  </thead>\n",
       "  <tbody>\n",
       "    <tr>\n",
       "      <th>0</th>\n",
       "      <td>1</td>\n",
       "      <td>Swift</td>\n",
       "      <td>2 to 3 years</td>\n",
       "      <td>2017</td>\n",
       "    </tr>\n",
       "    <tr>\n",
       "      <th>1</th>\n",
       "      <td>2</td>\n",
       "      <td>JavaScript; Python; Ruby; SQL</td>\n",
       "      <td>9 to 10 years</td>\n",
       "      <td>2017</td>\n",
       "    </tr>\n",
       "    <tr>\n",
       "      <th>2</th>\n",
       "      <td>3</td>\n",
       "      <td>Java; PHP; Python</td>\n",
       "      <td>20 or more years</td>\n",
       "      <td>2017</td>\n",
       "    </tr>\n",
       "    <tr>\n",
       "      <th>3</th>\n",
       "      <td>4</td>\n",
       "      <td>Matlab; Python; R; SQL</td>\n",
       "      <td>14 to 15 years</td>\n",
       "      <td>2017</td>\n",
       "    </tr>\n",
       "    <tr>\n",
       "      <th>4</th>\n",
       "      <td>5</td>\n",
       "      <td>NaN</td>\n",
       "      <td>20 or more years</td>\n",
       "      <td>2017</td>\n",
       "    </tr>\n",
       "  </tbody>\n",
       "</table>\n",
       "</div>"
      ],
      "text/plain": [
       "   Respondent             LanguageWorkedWith       YearsCoding  Year\n",
       "0           1                          Swift      2 to 3 years  2017\n",
       "1           2  JavaScript; Python; Ruby; SQL     9 to 10 years  2017\n",
       "2           3              Java; PHP; Python  20 or more years  2017\n",
       "3           4         Matlab; Python; R; SQL    14 to 15 years  2017\n",
       "4           5                            NaN  20 or more years  2017"
      ]
     },
     "execution_count": 20,
     "metadata": {},
     "output_type": "execute_result"
    }
   ],
   "source": [
    "# `LanguageWorkedWith` is the column we'll use for languages used, so force 2017 to have it\n",
    "datasets[2017]['data']['LanguageWorkedWith'] = datasets[2017]['data']['HaveWorkedLanguage']\n",
    "\n",
    "# `YearsCoding` is the column we'll use for years coding, so force 2017 and 2019 to have it\n",
    "datasets[2017]['data']['YearsCoding'] = datasets[2017]['data']['YearsProgram']\n",
    "datasets[2019]['data']['YearsCoding'] = datasets[2019]['data']['YearsCode']\n",
    "\n",
    "# Now join them into a single dataframe. We'll take care of joining them to the main dataframe later.\n",
    "extra_df = join_datasets_by_year(datasets, ['Respondent', 'LanguageWorkedWith', 'YearsCoding'])\n",
    "print('Size of new intermidiate dataframe:', extra_df.shape)\n",
    "extra_df.head()"
   ]
  },
  {
   "cell_type": "markdown",
   "metadata": {},
   "source": [
    "We could do the same trick as we did for gender and explode the column into multiple ones, but I want to look at the possible unique values first before investing on that path:"
   ]
  },
  {
   "cell_type": "code",
   "execution_count": 21,
   "metadata": {},
   "outputs": [
    {
     "name": "stdout",
     "output_type": "stream",
     "text": [
      "\n",
      "Unique values for LanguageWorkedWith: ['Assembly', 'Bash/Shell', 'Bash/Shell/PowerShell', 'C', 'C#', 'C++', 'CSS', 'Clojure', 'Cobol', 'CoffeeScript', 'Common Lisp', 'Dart', 'Delphi/Object Pascal', 'Elixir', 'Erlang', 'F#', 'Go', 'Groovy', 'HTML', 'HTML/CSS', 'Hack', 'Haskell', 'Java', 'JavaScript', 'Julia', 'Kotlin', 'Lua', 'Matlab', 'Objective-C', 'Ocaml', 'Other(s):', 'PHP', 'Perl', 'Python', 'R', 'Ruby', 'Rust', 'SQL', 'Scala', 'Smalltalk', 'Swift', 'TypeScript', 'VB.NET', 'VBA', 'Visual Basic 6', 'WebAssembly']\n",
      "\n",
      "Unique values for YearsCoding: ['0-2 years', '1', '1 to 2 years', '10', '10 to 11 years', '11', '11 to 12 years', '12', '12 to 13 years', '12-14 years', '13', '13 to 14 years', '14', '14 to 15 years', '15', '15 to 16 years', '15-17 years', '16', '16 to 17 years', '17', '17 to 18 years', '18', '18 to 19 years', '18-20 years', '19', '19 to 20 years', '2', '2 to 3 years', '20', '20 or more years', '21', '21-23 years', '22', '23', '24', '24-26 years', '25', '26', '27', '27-29 years', '28', '29', '3', '3 to 4 years', '3-5 years', '30', '30 or more years', '31', '32', '33', '34', '35', '36', '37', '38', '39', '4', '4 to 5 years', '40', '41', '42', '43', '44', '45', '46', '47', '48', '49', '5', '5 to 6 years', '50', '6', '6 to 7 years', '6-8 years', '7', '7 to 8 years', '8', '8 to 9 years', '9', '9 to 10 years', '9-11 years', 'Less than 1 year', 'Less than a year', 'More than 50 years']\n"
     ]
    }
   ],
   "source": [
    "for col in ('LanguageWorkedWith', 'YearsCoding'):\n",
    "    value_set = set()\n",
    "    for row in extra_df[col]:\n",
    "        value_set |= extract_uniques(row)\n",
    "    print(f'\\nUnique values for {col}: {sorted(value_set)}')"
   ]
  },
  {
   "cell_type": "markdown",
   "metadata": {},
   "source": [
    "We'll need to clean the values a bit, but overall it looks like something we can handle. We could try to find patterns between entries programmatically, but I don't think is worth the effort so I'll just provide a fixed mapping:"
   ]
  },
  {
   "cell_type": "code",
   "execution_count": 22,
   "metadata": {},
   "outputs": [
    {
     "data": {
      "text/html": [
       "<div>\n",
       "<style scoped>\n",
       "    .dataframe tbody tr th:only-of-type {\n",
       "        vertical-align: middle;\n",
       "    }\n",
       "\n",
       "    .dataframe tbody tr th {\n",
       "        vertical-align: top;\n",
       "    }\n",
       "\n",
       "    .dataframe thead th {\n",
       "        text-align: right;\n",
       "    }\n",
       "</style>\n",
       "<table border=\"1\" class=\"dataframe\">\n",
       "  <thead>\n",
       "    <tr style=\"text-align: right;\">\n",
       "      <th></th>\n",
       "      <th>Respondent</th>\n",
       "      <th>LanguageWorkedWith</th>\n",
       "      <th>YearsCoding</th>\n",
       "      <th>Year</th>\n",
       "      <th>Language_Assembly</th>\n",
       "      <th>Language_Shell</th>\n",
       "      <th>Language_C</th>\n",
       "      <th>Language_C#</th>\n",
       "      <th>Language_C++</th>\n",
       "      <th>Language_CSS</th>\n",
       "      <th>...</th>\n",
       "      <th>Language_Rust</th>\n",
       "      <th>Language_SQL</th>\n",
       "      <th>Language_Scala</th>\n",
       "      <th>Language_Smalltalk</th>\n",
       "      <th>Language_Swift</th>\n",
       "      <th>Language_TypeScript</th>\n",
       "      <th>Language_VB.NET</th>\n",
       "      <th>Language_VBA</th>\n",
       "      <th>Language_Visual Basic 6</th>\n",
       "      <th>Language_WebAssembly</th>\n",
       "    </tr>\n",
       "  </thead>\n",
       "  <tbody>\n",
       "    <tr>\n",
       "      <th>0</th>\n",
       "      <td>1</td>\n",
       "      <td>Swift</td>\n",
       "      <td>2 to 3 years</td>\n",
       "      <td>2017</td>\n",
       "      <td>False</td>\n",
       "      <td>False</td>\n",
       "      <td>False</td>\n",
       "      <td>False</td>\n",
       "      <td>False</td>\n",
       "      <td>False</td>\n",
       "      <td>...</td>\n",
       "      <td>False</td>\n",
       "      <td>False</td>\n",
       "      <td>False</td>\n",
       "      <td>False</td>\n",
       "      <td>True</td>\n",
       "      <td>False</td>\n",
       "      <td>False</td>\n",
       "      <td>False</td>\n",
       "      <td>False</td>\n",
       "      <td>False</td>\n",
       "    </tr>\n",
       "    <tr>\n",
       "      <th>1</th>\n",
       "      <td>2</td>\n",
       "      <td>JavaScript; Python; Ruby; SQL</td>\n",
       "      <td>9 to 10 years</td>\n",
       "      <td>2017</td>\n",
       "      <td>False</td>\n",
       "      <td>False</td>\n",
       "      <td>False</td>\n",
       "      <td>False</td>\n",
       "      <td>False</td>\n",
       "      <td>False</td>\n",
       "      <td>...</td>\n",
       "      <td>False</td>\n",
       "      <td>True</td>\n",
       "      <td>False</td>\n",
       "      <td>False</td>\n",
       "      <td>False</td>\n",
       "      <td>False</td>\n",
       "      <td>False</td>\n",
       "      <td>False</td>\n",
       "      <td>False</td>\n",
       "      <td>False</td>\n",
       "    </tr>\n",
       "    <tr>\n",
       "      <th>2</th>\n",
       "      <td>3</td>\n",
       "      <td>Java; PHP; Python</td>\n",
       "      <td>20 or more years</td>\n",
       "      <td>2017</td>\n",
       "      <td>False</td>\n",
       "      <td>False</td>\n",
       "      <td>False</td>\n",
       "      <td>False</td>\n",
       "      <td>False</td>\n",
       "      <td>False</td>\n",
       "      <td>...</td>\n",
       "      <td>False</td>\n",
       "      <td>False</td>\n",
       "      <td>False</td>\n",
       "      <td>False</td>\n",
       "      <td>False</td>\n",
       "      <td>False</td>\n",
       "      <td>False</td>\n",
       "      <td>False</td>\n",
       "      <td>False</td>\n",
       "      <td>False</td>\n",
       "    </tr>\n",
       "    <tr>\n",
       "      <th>3</th>\n",
       "      <td>4</td>\n",
       "      <td>Matlab; Python; R; SQL</td>\n",
       "      <td>14 to 15 years</td>\n",
       "      <td>2017</td>\n",
       "      <td>False</td>\n",
       "      <td>False</td>\n",
       "      <td>False</td>\n",
       "      <td>False</td>\n",
       "      <td>False</td>\n",
       "      <td>False</td>\n",
       "      <td>...</td>\n",
       "      <td>False</td>\n",
       "      <td>True</td>\n",
       "      <td>False</td>\n",
       "      <td>False</td>\n",
       "      <td>False</td>\n",
       "      <td>False</td>\n",
       "      <td>False</td>\n",
       "      <td>False</td>\n",
       "      <td>False</td>\n",
       "      <td>False</td>\n",
       "    </tr>\n",
       "    <tr>\n",
       "      <th>4</th>\n",
       "      <td>5</td>\n",
       "      <td>NaN</td>\n",
       "      <td>20 or more years</td>\n",
       "      <td>2017</td>\n",
       "      <td>False</td>\n",
       "      <td>False</td>\n",
       "      <td>False</td>\n",
       "      <td>False</td>\n",
       "      <td>False</td>\n",
       "      <td>False</td>\n",
       "      <td>...</td>\n",
       "      <td>False</td>\n",
       "      <td>False</td>\n",
       "      <td>False</td>\n",
       "      <td>False</td>\n",
       "      <td>False</td>\n",
       "      <td>False</td>\n",
       "      <td>False</td>\n",
       "      <td>False</td>\n",
       "      <td>False</td>\n",
       "      <td>False</td>\n",
       "    </tr>\n",
       "  </tbody>\n",
       "</table>\n",
       "<p>5 rows × 48 columns</p>\n",
       "</div>"
      ],
      "text/plain": [
       "   Respondent             LanguageWorkedWith       YearsCoding  Year  \\\n",
       "0           1                          Swift      2 to 3 years  2017   \n",
       "1           2  JavaScript; Python; Ruby; SQL     9 to 10 years  2017   \n",
       "2           3              Java; PHP; Python  20 or more years  2017   \n",
       "3           4         Matlab; Python; R; SQL    14 to 15 years  2017   \n",
       "4           5                            NaN  20 or more years  2017   \n",
       "\n",
       "   Language_Assembly  Language_Shell  Language_C  Language_C#  Language_C++  \\\n",
       "0              False           False       False        False         False   \n",
       "1              False           False       False        False         False   \n",
       "2              False           False       False        False         False   \n",
       "3              False           False       False        False         False   \n",
       "4              False           False       False        False         False   \n",
       "\n",
       "   Language_CSS  ...  Language_Rust  Language_SQL  Language_Scala  \\\n",
       "0         False  ...          False         False           False   \n",
       "1         False  ...          False          True           False   \n",
       "2         False  ...          False         False           False   \n",
       "3         False  ...          False          True           False   \n",
       "4         False  ...          False         False           False   \n",
       "\n",
       "   Language_Smalltalk  Language_Swift  Language_TypeScript  Language_VB.NET  \\\n",
       "0               False            True                False            False   \n",
       "1               False           False                False            False   \n",
       "2               False           False                False            False   \n",
       "3               False           False                False            False   \n",
       "4               False           False                False            False   \n",
       "\n",
       "   Language_VBA  Language_Visual Basic 6  Language_WebAssembly  \n",
       "0         False                    False                 False  \n",
       "1         False                    False                 False  \n",
       "2         False                    False                 False  \n",
       "3         False                    False                 False  \n",
       "4         False                    False                 False  \n",
       "\n",
       "[5 rows x 48 columns]"
      ]
     },
     "execution_count": 22,
     "metadata": {},
     "output_type": "execute_result"
    }
   ],
   "source": [
    "# Extracting programming languages\n",
    "language_mapping = {\n",
    "    'Assembly': ['Assembly'],\n",
    "    'Shell': ['Bash/Shell', 'Bash/Shell/PowerShell'],\n",
    "    'C': ['C'],\n",
    "    'C#': ['C#'],\n",
    "    'C++': ['C++'],\n",
    "    'CSS': ['CSS', 'HTML/CSS'],\n",
    "    'Clojure': ['Clojure'],\n",
    "    'Cobol': ['Cobol'],\n",
    "    'CoffeeScript': ['CoffeeScript'],\n",
    "    'CommonLisp': ['Common Lisp'],\n",
    "    'Dart': ['Dart'],\n",
    "    'Pascal': ['Delphi/Object Pascal'],\n",
    "    'Elixir': ['Elixir'],\n",
    "    'Erlang': ['Erlang'],\n",
    "    'F#': ['F#'],\n",
    "    'Go': ['Go'],\n",
    "    'Groovy': ['Groovy'],\n",
    "    'HTML': ['HTML', 'HTML/CSS'],\n",
    "    'Hack': ['Hack'],\n",
    "    'Haskell': ['Haskell'],\n",
    "    'Java': ['Java'],\n",
    "    'JavaScript': ['JavaScript'],\n",
    "    'Julia': ['Julia'],\n",
    "    'Kotlin': ['Kotlin'],\n",
    "    'Lua': ['Lua'],\n",
    "    'Matlab': ['Matlab'],\n",
    "    'Objective-C': ['Objective-C'],\n",
    "    'Ocaml': ['Ocaml'],\n",
    "    'Other': ['Other(s):'],\n",
    "    'PHP': ['PHP'],\n",
    "    'Perl': ['Perl'],\n",
    "    'Python': ['Python'],\n",
    "    'R': ['R'],\n",
    "    'Ruby': ['Ruby'],\n",
    "    'Rust': ['Rust'],\n",
    "    'SQL': ['SQL'],\n",
    "    'Scala': ['Scala'],\n",
    "    'Smalltalk': ['Smalltalk'],\n",
    "    'Swift': ['Swift'],\n",
    "    'TypeScript': ['TypeScript'],\n",
    "    'VB.NET': ['VB.NET'],\n",
    "    'VBA': ['VBA'],\n",
    "    'Visual Basic 6': ['Visual Basic 6'],\n",
    "    'WebAssembly': ['WebAssembly']\n",
    "}\n",
    "extra_df = explode_column(extra_df, 'LanguageWorkedWith', language_mapping, prefix='Language')\n",
    "extra_df.head()"
   ]
  },
  {
   "cell_type": "code",
   "execution_count": 23,
   "metadata": {},
   "outputs": [
    {
     "data": {
      "text/html": [
       "<div>\n",
       "<style scoped>\n",
       "    .dataframe tbody tr th:only-of-type {\n",
       "        vertical-align: middle;\n",
       "    }\n",
       "\n",
       "    .dataframe tbody tr th {\n",
       "        vertical-align: top;\n",
       "    }\n",
       "\n",
       "    .dataframe thead th {\n",
       "        text-align: right;\n",
       "    }\n",
       "</style>\n",
       "<table border=\"1\" class=\"dataframe\">\n",
       "  <thead>\n",
       "    <tr style=\"text-align: right;\">\n",
       "      <th></th>\n",
       "      <th>YearsCoding</th>\n",
       "      <th>YearsCoding_0to2</th>\n",
       "      <th>YearsCoding_2to5</th>\n",
       "      <th>YearsCoding_5to8</th>\n",
       "      <th>YearsCoding_8to14</th>\n",
       "      <th>YearsCoding_14to20</th>\n",
       "      <th>YearsCoding_20orMore</th>\n",
       "    </tr>\n",
       "  </thead>\n",
       "  <tbody>\n",
       "    <tr>\n",
       "      <th>0</th>\n",
       "      <td>2 to 3 years</td>\n",
       "      <td>False</td>\n",
       "      <td>True</td>\n",
       "      <td>False</td>\n",
       "      <td>False</td>\n",
       "      <td>False</td>\n",
       "      <td>False</td>\n",
       "    </tr>\n",
       "    <tr>\n",
       "      <th>1</th>\n",
       "      <td>9 to 10 years</td>\n",
       "      <td>False</td>\n",
       "      <td>False</td>\n",
       "      <td>False</td>\n",
       "      <td>True</td>\n",
       "      <td>False</td>\n",
       "      <td>False</td>\n",
       "    </tr>\n",
       "    <tr>\n",
       "      <th>2</th>\n",
       "      <td>20 or more years</td>\n",
       "      <td>False</td>\n",
       "      <td>False</td>\n",
       "      <td>False</td>\n",
       "      <td>False</td>\n",
       "      <td>False</td>\n",
       "      <td>True</td>\n",
       "    </tr>\n",
       "    <tr>\n",
       "      <th>3</th>\n",
       "      <td>14 to 15 years</td>\n",
       "      <td>False</td>\n",
       "      <td>False</td>\n",
       "      <td>False</td>\n",
       "      <td>False</td>\n",
       "      <td>True</td>\n",
       "      <td>False</td>\n",
       "    </tr>\n",
       "    <tr>\n",
       "      <th>4</th>\n",
       "      <td>20 or more years</td>\n",
       "      <td>False</td>\n",
       "      <td>False</td>\n",
       "      <td>False</td>\n",
       "      <td>False</td>\n",
       "      <td>False</td>\n",
       "      <td>True</td>\n",
       "    </tr>\n",
       "  </tbody>\n",
       "</table>\n",
       "</div>"
      ],
      "text/plain": [
       "        YearsCoding  YearsCoding_0to2  YearsCoding_2to5  YearsCoding_5to8  \\\n",
       "0      2 to 3 years             False              True             False   \n",
       "1     9 to 10 years             False             False             False   \n",
       "2  20 or more years             False             False             False   \n",
       "3    14 to 15 years             False             False             False   \n",
       "4  20 or more years             False             False             False   \n",
       "\n",
       "   YearsCoding_8to14  YearsCoding_14to20  YearsCoding_20orMore  \n",
       "0              False               False                 False  \n",
       "1               True               False                 False  \n",
       "2              False               False                  True  \n",
       "3              False                True                 False  \n",
       "4              False               False                  True  "
      ]
     },
     "execution_count": 23,
     "metadata": {},
     "output_type": "execute_result"
    }
   ],
   "source": [
    "# Extracting years of coding. For this one, I'm assumming the year ranges in the answers are inclusive at the beggining but exclusive at the end. I figured 6 groups was good enough resolution for my analysis.\n",
    "years_mapping = {\n",
    "    '0to2': ['0-2 years', '1', '1 to 2 years', 'Less than 1 year', 'Less than a year'],\n",
    "    '2to5': ['2', '2 to 3 years', '3', '3 to 4 years', '3-5 years', '4', '4 to 5 years'],    \n",
    "    '5to8': ['5', '5 to 6 years', '6', '6 to 7 years', '6-8 years', '7', '7 to 8 years'],    \n",
    "    '8to14': ['8', '8 to 9 years', '9', '9 to 10 years', '9-11 years', '10 to 11 years', \n",
    "              '11 to 12 years', '11', '10', '12-14 years', '12 to 13 years', '13 to 14 years',\n",
    "              '12', '13'],    \n",
    "    '14to20': ['14 to 15 years', '14', '15', '15 to 16 years', '15-17 years', '16', '16 to 17 years',\n",
    "               '17 to 18 years', '17', '18', '18 to 19 years', '18-20 years', '19', '19 to 20 years'],\n",
    "    '20orMore': ['20 or more years', '20', '21', '21-23 years', '22', '23', '24', '24-26 years', '25',\n",
    "                 '26', '27', '27-29 years', '28', '29', '30', '30 or more years', '31', '32', '33', \n",
    "                 '34', '35', '36', '37', '38', '39', '40', '41', '42', '43', '44', '45', '46', '47', \n",
    "                 '48', '49', '50', 'More than 50 years'],\n",
    "}\n",
    "extra_df = explode_column(extra_df, 'YearsCoding', years_mapping)\n",
    "extra_df.filter(regex='^YearsCoding',axis=1).head()"
   ]
  },
  {
   "cell_type": "markdown",
   "metadata": {},
   "source": [
    "With the extra dimensions in place, we can now join into a new clean dataframe that we can use for analysis:"
   ]
  },
  {
   "cell_type": "code",
   "execution_count": 24,
   "metadata": {},
   "outputs": [
    {
     "data": {
      "text/html": [
       "<div>\n",
       "<style scoped>\n",
       "    .dataframe tbody tr th:only-of-type {\n",
       "        vertical-align: middle;\n",
       "    }\n",
       "\n",
       "    .dataframe tbody tr th {\n",
       "        vertical-align: top;\n",
       "    }\n",
       "\n",
       "    .dataframe thead th {\n",
       "        text-align: right;\n",
       "    }\n",
       "</style>\n",
       "<table border=\"1\" class=\"dataframe\">\n",
       "  <thead>\n",
       "    <tr style=\"text-align: right;\">\n",
       "      <th></th>\n",
       "      <th>Respondent</th>\n",
       "      <th>Country</th>\n",
       "      <th>Gender</th>\n",
       "      <th>Year</th>\n",
       "      <th>Continent</th>\n",
       "      <th>Gender_Female</th>\n",
       "      <th>Gender_Male</th>\n",
       "      <th>Gender_Non_Conforming</th>\n",
       "      <th>Gender_Transgender</th>\n",
       "      <th>Gender_Other</th>\n",
       "      <th>...</th>\n",
       "      <th>Language_VB.NET</th>\n",
       "      <th>Language_VBA</th>\n",
       "      <th>Language_Visual Basic 6</th>\n",
       "      <th>Language_WebAssembly</th>\n",
       "      <th>YearsCoding_0to2</th>\n",
       "      <th>YearsCoding_2to5</th>\n",
       "      <th>YearsCoding_5to8</th>\n",
       "      <th>YearsCoding_8to14</th>\n",
       "      <th>YearsCoding_14to20</th>\n",
       "      <th>YearsCoding_20orMore</th>\n",
       "    </tr>\n",
       "  </thead>\n",
       "  <tbody>\n",
       "    <tr>\n",
       "      <th>0</th>\n",
       "      <td>1</td>\n",
       "      <td>United States</td>\n",
       "      <td>Male</td>\n",
       "      <td>2017</td>\n",
       "      <td>North America</td>\n",
       "      <td>False</td>\n",
       "      <td>True</td>\n",
       "      <td>False</td>\n",
       "      <td>False</td>\n",
       "      <td>False</td>\n",
       "      <td>...</td>\n",
       "      <td>False</td>\n",
       "      <td>False</td>\n",
       "      <td>False</td>\n",
       "      <td>False</td>\n",
       "      <td>False</td>\n",
       "      <td>True</td>\n",
       "      <td>False</td>\n",
       "      <td>False</td>\n",
       "      <td>False</td>\n",
       "      <td>False</td>\n",
       "    </tr>\n",
       "  </tbody>\n",
       "</table>\n",
       "<p>1 rows × 62 columns</p>\n",
       "</div>"
      ],
      "text/plain": [
       "   Respondent        Country Gender  Year      Continent  Gender_Female  \\\n",
       "0           1  United States   Male  2017  North America          False   \n",
       "\n",
       "   Gender_Male  Gender_Non_Conforming  Gender_Transgender  Gender_Other  ...  \\\n",
       "0         True                  False               False         False  ...   \n",
       "\n",
       "  Language_VB.NET Language_VBA  Language_Visual Basic 6  Language_WebAssembly  \\\n",
       "0           False        False                    False                 False   \n",
       "\n",
       "   YearsCoding_0to2  YearsCoding_2to5  YearsCoding_5to8  YearsCoding_8to14  \\\n",
       "0             False              True             False              False   \n",
       "\n",
       "   YearsCoding_14to20  YearsCoding_20orMore  \n",
       "0               False                 False  \n",
       "\n",
       "[1 rows x 62 columns]"
      ]
     },
     "execution_count": 24,
     "metadata": {},
     "output_type": "execute_result"
    }
   ],
   "source": [
    "# Run an inner join to create the final dataframe version\n",
    "clean_df = exploded_df.merge(extra_df, on=['Year', 'Respondent'])\n",
    "clean_df.head(1)"
   ]
  },
  {
   "cell_type": "code",
   "execution_count": 25,
   "metadata": {},
   "outputs": [
    {
     "name": "stdout",
     "output_type": "stream",
     "text": [
      "Shape of full_df:  (239130, 10)\n",
      "Columns in full_df:  ['Continent', 'Country', 'Gender', 'Gender_Female', 'Gender_Male', 'Gender_Non_Conforming', 'Gender_Other', 'Gender_Transgender', 'Respondent', 'Year']\n",
      "\n",
      "Shape of extra_df:  (239130, 54)\n",
      "Columns in extra_df:  ['LanguageWorkedWith', 'Language_Assembly', 'Language_C', 'Language_C#', 'Language_C++', 'Language_CSS', 'Language_Clojure', 'Language_Cobol', 'Language_CoffeeScript', 'Language_CommonLisp', 'Language_Dart', 'Language_Elixir', 'Language_Erlang', 'Language_F#', 'Language_Go', 'Language_Groovy', 'Language_HTML', 'Language_Hack', 'Language_Haskell', 'Language_Java', 'Language_JavaScript', 'Language_Julia', 'Language_Kotlin', 'Language_Lua', 'Language_Matlab', 'Language_Objective-C', 'Language_Ocaml', 'Language_Other', 'Language_PHP', 'Language_Pascal', 'Language_Perl', 'Language_Python', 'Language_R', 'Language_Ruby', 'Language_Rust', 'Language_SQL', 'Language_Scala', 'Language_Shell', 'Language_Smalltalk', 'Language_Swift', 'Language_TypeScript', 'Language_VB.NET', 'Language_VBA', 'Language_Visual Basic 6', 'Language_WebAssembly', 'Respondent', 'Year', 'YearsCoding', 'YearsCoding_0to2', 'YearsCoding_14to20', 'YearsCoding_20orMore', 'YearsCoding_2to5', 'YearsCoding_5to8', 'YearsCoding_8to14']\n",
      "\n",
      "Shape of clean_df:  (239130, 62)\n",
      "Columns in clean_df:  ['Continent', 'Country', 'Gender', 'Gender_Female', 'Gender_Male', 'Gender_Non_Conforming', 'Gender_Other', 'Gender_Transgender', 'LanguageWorkedWith', 'Language_Assembly', 'Language_C', 'Language_C#', 'Language_C++', 'Language_CSS', 'Language_Clojure', 'Language_Cobol', 'Language_CoffeeScript', 'Language_CommonLisp', 'Language_Dart', 'Language_Elixir', 'Language_Erlang', 'Language_F#', 'Language_Go', 'Language_Groovy', 'Language_HTML', 'Language_Hack', 'Language_Haskell', 'Language_Java', 'Language_JavaScript', 'Language_Julia', 'Language_Kotlin', 'Language_Lua', 'Language_Matlab', 'Language_Objective-C', 'Language_Ocaml', 'Language_Other', 'Language_PHP', 'Language_Pascal', 'Language_Perl', 'Language_Python', 'Language_R', 'Language_Ruby', 'Language_Rust', 'Language_SQL', 'Language_Scala', 'Language_Shell', 'Language_Smalltalk', 'Language_Swift', 'Language_TypeScript', 'Language_VB.NET', 'Language_VBA', 'Language_Visual Basic 6', 'Language_WebAssembly', 'Respondent', 'Year', 'YearsCoding', 'YearsCoding_0to2', 'YearsCoding_14to20', 'YearsCoding_20orMore', 'YearsCoding_2to5', 'YearsCoding_5to8', 'YearsCoding_8to14']\n"
     ]
    }
   ],
   "source": [
    "# Extra validation to gain confidence on the join\n",
    "print('Shape of full_df: ', full_df.shape)\n",
    "print('Columns in full_df: ', sorted(full_df.columns))\n",
    "\n",
    "print('\\nShape of extra_df: ', extra_df.shape)\n",
    "print('Columns in extra_df: ', sorted(extra_df.columns))\n",
    "\n",
    "print('\\nShape of clean_df: ', clean_df.shape)\n",
    "print('Columns in clean_df: ', sorted(clean_df.columns))"
   ]
  },
  {
   "cell_type": "markdown",
   "metadata": {},
   "source": [
    "Looks like the join went well as the number of rows and columns is what I expected. I'll remove some columns we won't need for the analysis:"
   ]
  },
  {
   "cell_type": "code",
   "execution_count": 26,
   "metadata": {},
   "outputs": [
    {
     "name": "stdout",
     "output_type": "stream",
     "text": [
      "Final columns for analysis:  ['Continent', 'Country', 'Gender_Female', 'Gender_Male', 'Gender_Non_Conforming', 'Gender_Other', 'Gender_Transgender', 'Language_Assembly', 'Language_C', 'Language_C#', 'Language_C++', 'Language_CSS', 'Language_Clojure', 'Language_Cobol', 'Language_CoffeeScript', 'Language_CommonLisp', 'Language_Dart', 'Language_Elixir', 'Language_Erlang', 'Language_F#', 'Language_Go', 'Language_Groovy', 'Language_HTML', 'Language_Hack', 'Language_Haskell', 'Language_Java', 'Language_JavaScript', 'Language_Julia', 'Language_Kotlin', 'Language_Lua', 'Language_Matlab', 'Language_Objective-C', 'Language_Ocaml', 'Language_Other', 'Language_PHP', 'Language_Pascal', 'Language_Perl', 'Language_Python', 'Language_R', 'Language_Ruby', 'Language_Rust', 'Language_SQL', 'Language_Scala', 'Language_Shell', 'Language_Smalltalk', 'Language_Swift', 'Language_TypeScript', 'Language_VB.NET', 'Language_VBA', 'Language_Visual Basic 6', 'Language_WebAssembly', 'Respondent', 'Year', 'YearsCoding_0to2', 'YearsCoding_14to20', 'YearsCoding_20orMore', 'YearsCoding_2to5', 'YearsCoding_5to8', 'YearsCoding_8to14']\n"
     ]
    }
   ],
   "source": [
    "clean_df.drop(['Gender', 'LanguageWorkedWith', 'YearsCoding'], axis=1, inplace=True)\n",
    "print('Final columns for analysis: ', sorted(clean_df.columns))"
   ]
  },
  {
   "cell_type": "markdown",
   "metadata": {},
   "source": [
    "## Analysis\n",
    "In this section, for each continent in the past 3 years, I focus on providing answer to the following questions:\n",
    "\n",
    "- How many responses were received?\n",
    "- What's the distribution of respondent's gender?\n",
    "- What's the distribution of coding years?\n",
    "- What are the most popular programming languages?\n",
    "\n",
    "Each subsection will focus on one question, where I'll try to provide answers using high level mathematical instruments that should be easy to consume by people with little technical background."
   ]
  },
  {
   "cell_type": "markdown",
   "metadata": {},
   "source": [
    "### How many responses were received?\n",
    "\n",
    "My main intention is to learn about where most of the responses are coming from and whether that has changed with the years. The following box plot shows the amount of responses from each continent across years in the same place for easy comparison:"
   ]
  },
  {
   "cell_type": "code",
   "execution_count": 27,
   "metadata": {},
   "outputs": [
    {
     "data": {
      "text/plain": [
       "Text(0.5, 1.0, 'Number of responses per continent across years')"
      ]
     },
     "execution_count": 27,
     "metadata": {},
     "output_type": "execute_result"
    },
    {
     "data": {
      "image/png": "[encoded data removed]",
      "text/plain": [
       "<Figure size 1152x432 with 1 Axes>"
      ]
     },
     "metadata": {
      "needs_background": "light"
     },
     "output_type": "display_data"
    }
   ],
   "source": [
    "plt.figure(figsize=(16, 6))\n",
    "ax = sns.countplot(x='Continent', hue='Year', data=clean_df)\n",
    "ax.set_ylabel('Number of responses')\n",
    "ax.set_title('Number of responses per continent across years')"
   ]
  },
  {
   "cell_type": "markdown",
   "metadata": {},
   "source": [
    "The first thing I noticed is how North America, Europe and Asia have way more responses than the rest, and I don't want to miss on across the world. Before sharing my observations, I'll take a second pass and split across continents so each can have their own count resolution:"
   ]
  },
  {
   "cell_type": "code",
   "execution_count": 28,
   "metadata": {},
   "outputs": [
    {
     "data": {
      "image/png": "[encoded data removed]",
      "text/plain": [
       "<Figure size 1440x720 with 8 Axes>"
      ]
     },
     "metadata": {
      "needs_background": "light"
     },
     "output_type": "display_data"
    }
   ],
   "source": [
    "col_order = ['Europe', 'North America', 'Asia', 'South America', 'Africa', 'Oceania',\n",
    "             'Undefined', 'Antartica']\n",
    "fg = sns.catplot(x='Year', col=\"Continent\", kind=\"count\", col_wrap=4, sharey=False,\n",
    "                 col_order=col_order, data=clean_df)\n",
    "fg.set_ylabels('Number of responses')\n",
    "plt.subplots_adjust(top=0.9)\n",
    "fg.fig.suptitle('Number of responses per year for each continent');"
   ]
  },
  {
   "cell_type": "markdown",
   "metadata": {},
   "source": [
    "With that, here are my overall observations:\n",
    "\n",
    "- As mentioned, most of the responses are coming from North America, Europe and Asia. The survey observed an increase in responses from the other groups, but they're not significant enough to compete yet.\n",
    "- There was a significant increase in the number of responses in all continents from 2017 to 2018 but it looks like that wasn't replicated from 2018 to 2019. Continents either observed a similar amount of responses or a noticeable smaller amount of them. The methodology section of the 2019 survey mentioned that it wasn't accessible to the entire world, so that could be part of it.\n",
    "- I'm a little surprised to find out that Europe continues to be where most of the responses are coming from. Asia observed less of them on 2019, which is not what I would expect. It could be that Stack Overflow faces fundamental technical challenges to reach the region.\n",
    "- Only 2017 observed responses from Antartica. The might have been user errors, and likely the next years removed the option from the possible countries to select."
   ]
  },
  {
   "cell_type": "markdown",
   "metadata": {},
   "source": [
    "### What's the distribution of respondent's gender?\n",
    "\n",
    "I would like to be surprised in this section. I'm hoping to find more diversity in the respondent base with each passing year. I'll focus on plotting the gender distribution across continents on their own axis, and for that I'll [melt](https://pandas.pydata.org/pandas-docs/stable/reference/api/pandas.melt.html) the gender variable first:"
   ]
  },
  {
   "cell_type": "code",
   "execution_count": 29,
   "metadata": {},
   "outputs": [],
   "source": [
    "def melt_bool_cols_with_prefix(df, id_vars, var_name, col_prefix):\n",
    "    \"\"\"Generates a dataframe in which boolean columns prefixed by `col_prefix` are melted\n",
    "    \n",
    "    The new dataframe will keep the columns `id_vars` and add a `var_name` column. Rows will\n",
    "    be melted in such a way that boolean columns with the prefix `col_prefix` are transformed \n",
    "    from wide into a long format, then further prunned to only keep rows in which the original\n",
    "    columns were True for that particular row.\n",
    "    \"\"\"\n",
    "    cols_to_melt = [col for col in df.columns if col.startswith(col_prefix)]\n",
    "    melted_df = pd.melt(df, id_vars=id_vars, value_vars=cols_to_melt,\n",
    "                        var_name=var_name, value_name='Value')\n",
    "    melted_df = melted_df[melted_df.Value == True]\n",
    "    melted_df[var_name] = melted_df[var_name].str.replace(col_prefix, '')\n",
    "    return melted_df.drop('Value', axis=1)"
   ]
  },
  {
   "cell_type": "code",
   "execution_count": 30,
   "metadata": {},
   "outputs": [
    {
     "name": "stdout",
     "output_type": "stream",
     "text": [
      "Melted version of dataset in which rows represent all the possible gender responses\n",
      "Dimensions:  (186789, 3)\n"
     ]
    },
    {
     "data": {
      "text/html": [
       "<div>\n",
       "<style scoped>\n",
       "    .dataframe tbody tr th:only-of-type {\n",
       "        vertical-align: middle;\n",
       "    }\n",
       "\n",
       "    .dataframe tbody tr th {\n",
       "        vertical-align: top;\n",
       "    }\n",
       "\n",
       "    .dataframe thead th {\n",
       "        text-align: right;\n",
       "    }\n",
       "</style>\n",
       "<table border=\"1\" class=\"dataframe\">\n",
       "  <thead>\n",
       "    <tr style=\"text-align: right;\">\n",
       "      <th></th>\n",
       "      <th>Year</th>\n",
       "      <th>Continent</th>\n",
       "      <th>Gender</th>\n",
       "    </tr>\n",
       "  </thead>\n",
       "  <tbody>\n",
       "    <tr>\n",
       "      <th>10</th>\n",
       "      <td>2017</td>\n",
       "      <td>North America</td>\n",
       "      <td>Female</td>\n",
       "    </tr>\n",
       "    <tr>\n",
       "      <th>13</th>\n",
       "      <td>2017</td>\n",
       "      <td>Europe</td>\n",
       "      <td>Female</td>\n",
       "    </tr>\n",
       "    <tr>\n",
       "      <th>103</th>\n",
       "      <td>2017</td>\n",
       "      <td>North America</td>\n",
       "      <td>Female</td>\n",
       "    </tr>\n",
       "    <tr>\n",
       "      <th>165</th>\n",
       "      <td>2017</td>\n",
       "      <td>Europe</td>\n",
       "      <td>Female</td>\n",
       "    </tr>\n",
       "    <tr>\n",
       "      <th>214</th>\n",
       "      <td>2017</td>\n",
       "      <td>Europe</td>\n",
       "      <td>Female</td>\n",
       "    </tr>\n",
       "  </tbody>\n",
       "</table>\n",
       "</div>"
      ],
      "text/plain": [
       "     Year      Continent  Gender\n",
       "10   2017  North America  Female\n",
       "13   2017         Europe  Female\n",
       "103  2017  North America  Female\n",
       "165  2017         Europe  Female\n",
       "214  2017         Europe  Female"
      ]
     },
     "metadata": {},
     "output_type": "display_data"
    }
   ],
   "source": [
    "# Melt gender values so we can more easily count them later\n",
    "gender_melt = melt_bool_cols_with_prefix(clean_df, ['Year', 'Continent'], 'Gender', 'Gender_')\n",
    "print('Melted version of dataset in which rows represent all the possible gender responses')\n",
    "print('Dimensions: ', gender_melt.shape)\n",
    "display(gender_melt.head())"
   ]
  },
  {
   "cell_type": "code",
   "execution_count": 31,
   "metadata": {},
   "outputs": [
    {
     "data": {
      "image/png": "[encoded data removed]",
      "text/plain": [
       "<Figure size 1563.22x720 with 8 Axes>"
      ]
     },
     "metadata": {
      "needs_background": "light"
     },
     "output_type": "display_data"
    }
   ],
   "source": [
    "# Count plot with the gender count breakdown across continents and years\n",
    "gender_cols = [col for col in clean_df.columns if col.startswith('Gender_')]\n",
    "hue_order = sorted([col.replace('Gender_', '') for col in gender_cols])\n",
    "fg = sns.catplot(x='Year', col=\"Continent\", hue=\"Gender\", hue_order=hue_order, kind=\"count\", col_wrap=4,\n",
    "                 sharey=False, col_order=col_order, data=gender_melt)\n",
    "fg.set_ylabels('Row count per gender')\n",
    "plt.subplots_adjust(top=0.9)\n",
    "fg.fig.suptitle('Gender breakdown per year for each continent');"
   ]
  },
  {
   "cell_type": "markdown",
   "metadata": {},
   "source": [
    "I'm not surprised with the fact that Male has the highest absolute count across. But I'm more interested in looking at the proportions across. For that, I'll pre-aggregate the melted dataset to display a box plot:"
   ]
  },
  {
   "cell_type": "code",
   "execution_count": 32,
   "metadata": {},
   "outputs": [
    {
     "name": "stdout",
     "output_type": "stream",
     "text": [
      "Dimensions of the new aggregated version of the melt:  (85, 4)\n"
     ]
    },
    {
     "data": {
      "text/html": [
       "<div>\n",
       "<style scoped>\n",
       "    .dataframe tbody tr th:only-of-type {\n",
       "        vertical-align: middle;\n",
       "    }\n",
       "\n",
       "    .dataframe tbody tr th {\n",
       "        vertical-align: top;\n",
       "    }\n",
       "\n",
       "    .dataframe thead th {\n",
       "        text-align: right;\n",
       "    }\n",
       "</style>\n",
       "<table border=\"1\" class=\"dataframe\">\n",
       "  <thead>\n",
       "    <tr style=\"text-align: right;\">\n",
       "      <th></th>\n",
       "      <th>Year</th>\n",
       "      <th>Continent</th>\n",
       "      <th>Gender</th>\n",
       "      <th>Proportion</th>\n",
       "    </tr>\n",
       "  </thead>\n",
       "  <tbody>\n",
       "    <tr>\n",
       "      <th>0</th>\n",
       "      <td>2017</td>\n",
       "      <td>Africa</td>\n",
       "      <td>Female</td>\n",
       "      <td>0.082138</td>\n",
       "    </tr>\n",
       "    <tr>\n",
       "      <th>1</th>\n",
       "      <td>2017</td>\n",
       "      <td>Africa</td>\n",
       "      <td>Male</td>\n",
       "      <td>0.878748</td>\n",
       "    </tr>\n",
       "    <tr>\n",
       "      <th>2</th>\n",
       "      <td>2017</td>\n",
       "      <td>Africa</td>\n",
       "      <td>Non_Conforming</td>\n",
       "      <td>0.010430</td>\n",
       "    </tr>\n",
       "    <tr>\n",
       "      <th>3</th>\n",
       "      <td>2017</td>\n",
       "      <td>Africa</td>\n",
       "      <td>Other</td>\n",
       "      <td>0.019557</td>\n",
       "    </tr>\n",
       "    <tr>\n",
       "      <th>4</th>\n",
       "      <td>2017</td>\n",
       "      <td>Africa</td>\n",
       "      <td>Transgender</td>\n",
       "      <td>0.009126</td>\n",
       "    </tr>\n",
       "  </tbody>\n",
       "</table>\n",
       "</div>"
      ],
      "text/plain": [
       "   Year Continent          Gender  Proportion\n",
       "0  2017    Africa          Female    0.082138\n",
       "1  2017    Africa            Male    0.878748\n",
       "2  2017    Africa  Non_Conforming    0.010430\n",
       "3  2017    Africa           Other    0.019557\n",
       "4  2017    Africa     Transgender    0.009126"
      ]
     },
     "execution_count": 32,
     "metadata": {},
     "output_type": "execute_result"
    }
   ],
   "source": [
    "# Proportion calculation from the melted version of the dataset\n",
    "sizes = gender_melt.groupby(['Year', 'Continent', 'Gender']).size()\n",
    "agg_gender_melt = sizes.div(sizes.groupby(['Year', 'Continent']).transform('sum')).reset_index().rename(columns={\n",
    "    0: 'Proportion',\n",
    "})\n",
    "print('Dimensions of the new aggregated version of the melt: ', agg_gender_melt.shape)\n",
    "agg_gender_melt.head()"
   ]
  },
  {
   "cell_type": "code",
   "execution_count": 33,
   "metadata": {},
   "outputs": [
    {
     "data": {
      "image/png": "[encoded data removed]",
      "text/plain": [
       "<Figure size 1563.22x720 with 8 Axes>"
      ]
     },
     "metadata": {
      "needs_background": "light"
     },
     "output_type": "display_data"
    }
   ],
   "source": [
    "# Box plot with the gender proportion breakdown across continents and years.  Notice I'm sharing the Y axis \n",
    "# this time as I want to use the same scale for easier comparison\n",
    "fg = sns.catplot(x='Year', y='Proportion', col=\"Continent\", hue=\"Gender\", kind=\"bar\", col_wrap=4,\n",
    "                 sharey=True, data=agg_gender_melt, hue_order=hue_order, col_order=col_order)\n",
    "fg.set_ylabels('Proportion')\n",
    "plt.subplots_adjust(top=0.9)\n",
    "fg.fig.suptitle('Gender proportions per year for each continent');"
   ]
  },
  {
   "cell_type": "markdown",
   "metadata": {},
   "source": [
    "So not only are Male respondents the largest group by far, but it seems the proportions are pretty much the same across continents and that hasn't changed much in the past 3 years. Antartica's proportions during 2017 are the exception, but that's likely because of the small sample size.\n",
    "\n",
    "Given how dominant the Male group is, I think is worth iterating over the graph. First, let's look at the proportions but without the male group to better surface the rest:"
   ]
  },
  {
   "cell_type": "code",
   "execution_count": 34,
   "metadata": {},
   "outputs": [
    {
     "data": {
      "image/png": "[encoded data removed]",
      "text/plain": [
       "<Figure size 1563.22x720 with 8 Axes>"
      ]
     },
     "metadata": {
      "needs_background": "light"
     },
     "output_type": "display_data"
    }
   ],
   "source": [
    "# Same as previous box plot, but without the male gender\n",
    "fg = sns.catplot(x='Year', y='Proportion', col=\"Continent\", hue=\"Gender\", kind=\"bar\", col_wrap=4,\n",
    "                 sharey=True, data=agg_gender_melt[agg_gender_melt.Gender != 'Male'], col_order=col_order)\n",
    "fg.set_ylabels('Proportion')\n",
    "plt.subplots_adjust(top=0.9)\n",
    "fg.fig.suptitle('Non-male gender proportions per year for each continent');"
   ]
  },
  {
   "cell_type": "markdown",
   "metadata": {},
   "source": [
    "Female is clearly the next largest group, but it never becomes more than 15% of the respondent's base. The remaining groups are really small in comparison, and it seems some of the diversity was lost in later years as for example the `Other` group disappears. I'm curious about that, so let's look into unique gender responses but this time just grouped by year:"
   ]
  },
  {
   "cell_type": "code",
   "execution_count": 35,
   "metadata": {},
   "outputs": [
    {
     "name": "stdout",
     "output_type": "stream",
     "text": [
      "Gender breakdown per year:\n"
     ]
    },
    {
     "data": {
      "text/plain": [
       "Year  Gender        \n",
       "2017  Female             2743\n",
       "      Male              31890\n",
       "      Non_Conforming      314\n",
       "      Other               428\n",
       "      Transgender         180\n",
       "2018  Female             4409\n",
       "      Male              59785\n",
       "      Non_Conforming      595\n",
       "      Transgender         423\n",
       "2019  Female             6709\n",
       "      Male              78302\n",
       "      Non_Conforming     1011\n",
       "dtype: int64"
      ]
     },
     "metadata": {},
     "output_type": "display_data"
    }
   ],
   "source": [
    "print('Gender breakdown per year:')\n",
    "display(gender_melt.groupby(['Year', 'Gender']).size())"
   ]
  },
  {
   "cell_type": "markdown",
   "metadata": {},
   "source": [
    "Only `Female`, `Male`, and `Non_Conforming` stay present across years. `Other` is missing since 2018 and `Transgender` since 2019. By inspecting further the [2019 demographics analysis](https://insights.stackoverflow.com/survey/2019#demographics), I discovered that transgender identity was separated from the question about gender identity. The [2018 demographics analysis](https://insights.stackoverflow.com/survey/2018#demographics) doesn't mention what happened to `Other` so not sure why it was decided it was ok to remove. Is not within scope for me to judge if this was the correct approach or not, but it explains what's observed in the above graphs.\n",
    "\n",
    "After learning about all the above, I would also like to take another step and group non-male genders into a single group so I get a sense of how much that has changed with each passing year:"
   ]
  },
  {
   "cell_type": "code",
   "execution_count": 36,
   "metadata": {},
   "outputs": [
    {
     "data": {
      "image/png": "[encoded data removed]",
      "text/plain": [
       "<Figure size 1440x720 with 8 Axes>"
      ]
     },
     "metadata": {
      "needs_background": "light"
     },
     "output_type": "display_data"
    }
   ],
   "source": [
    "# Group non-male rows by year and continent and plot the sum of proportions\n",
    "non_male = agg_gender_melt[agg_gender_melt.Gender != 'Male'].groupby(['Year', 'Continent']).sum().reset_index()\n",
    "fg = sns.catplot(x='Year', y='Proportion', col=\"Continent\", kind=\"bar\", col_wrap=4,\n",
    "                 sharey=True, data=non_male, col_order=col_order)\n",
    "fg.set_ylabels('Proportion')\n",
    "plt.subplots_adjust(top=0.9)\n",
    "fg.fig.suptitle('Grouped non-male gender proportions per year for each continent');"
   ]
  },
  {
   "cell_type": "markdown",
   "metadata": {},
   "source": [
    "It seems the non-male group didn't grow much in the past 3 years. In fact, it looks like is actually becoming smaller in certain regions! That's a surprise to me, I would have anticipated some noticeable improvements. I know the industry is facing a [large gender gap](https://www.nytimes.com/2019/06/21/technology/gender-gap-tech-computer-science.html), but is possible the survey is fundamentally failing to reach this population.\n",
    "\n",
    "In addition to the graphs, is worth sharing the average group representations and their respective standart deviations for the year of 2019 to have a sense of current status:"
   ]
  },
  {
   "cell_type": "code",
   "execution_count": 37,
   "metadata": {},
   "outputs": [
    {
     "name": "stdout",
     "output_type": "stream",
     "text": [
      "2019 average percentage and respective standart deviation per gender:\n",
      "\tFemale: (7.88137114081813, 2.0776604914076886)\n",
      "\tMale: (90.90963390886905, 2.396509210305568)\n",
      "\tNon_Conforming: (1.2089949503128317, 0.48017531993237905)\n"
     ]
    }
   ],
   "source": [
    "latest_agg = agg_gender_melt[agg_gender_melt.Year == 2019]\n",
    "print('2019 average percentage and respective standart deviation per gender:')\n",
    "for gender in sorted(latest_agg.Gender.unique()):\n",
    "    avg = latest_agg[latest_agg.Gender == gender]['Proportion'].mean() * 100\n",
    "    std = latest_agg[latest_agg.Gender == gender]['Proportion'].std() * 100    \n",
    "    print(f'\\t{gender}: ({avg}, {std})')"
   ]
  },
  {
   "cell_type": "markdown",
   "metadata": {},
   "source": [
    "To summarize all the above:\n",
    "\n",
    "- By visual inspection, one can easily tell respondents that identify as `Male` are the largest group by far. Across continents in the last year, they represent on average about 90.9% of the population. Not only that, but further visual inspection and a 2.4% of standart deviation seem to indicate the reality doesn't change much around the world.\n",
    "- `Female` follows as the second largest group, but is trailing way behind with just an average representation of about 8%. Again, visual inspection and a 2.1% of standart deviation seem to indicate the reality doesn't change much around the world\n",
    "- When combining responses from non-male genders into a single group, one can easily notice that they haven't grown much in the past 3 years. In fact, it looks like the group is actually becoming smaller in certain regions!"
   ]
  },
  {
   "cell_type": "markdown",
   "metadata": {},
   "source": [
    "### What's the distribution of coding years?\n",
    "\n",
    "I think the tech industry wants to see a healthy mix of years of coding in the market given the high demand for professionals in this area, as more options to tailor job offerings likely increases the chances of success. I'm curious about what I'll find when I look at this from a continent perspective.\n",
    "\n",
    "We can follow a similar procedure for what we did for gender and [melt](https://pandas.pydata.org/pandas-docs/stable/reference/api/pandas.melt.html) the years of coding variable first, then proceed to plot the distribution of continents on their own axis:"
   ]
  },
  {
   "cell_type": "code",
   "execution_count": 38,
   "metadata": {},
   "outputs": [
    {
     "name": "stdout",
     "output_type": "stream",
     "text": [
      "Melted version of dataset in which rows represent all the possible conding year ranges responses\n",
      "Dimensions:  (232918, 3)\n"
     ]
    },
    {
     "data": {
      "text/html": [
       "<div>\n",
       "<style scoped>\n",
       "    .dataframe tbody tr th:only-of-type {\n",
       "        vertical-align: middle;\n",
       "    }\n",
       "\n",
       "    .dataframe tbody tr th {\n",
       "        vertical-align: top;\n",
       "    }\n",
       "\n",
       "    .dataframe thead th {\n",
       "        text-align: right;\n",
       "    }\n",
       "</style>\n",
       "<table border=\"1\" class=\"dataframe\">\n",
       "  <thead>\n",
       "    <tr style=\"text-align: right;\">\n",
       "      <th></th>\n",
       "      <th>Year</th>\n",
       "      <th>Continent</th>\n",
       "      <th>YearsCoding</th>\n",
       "    </tr>\n",
       "  </thead>\n",
       "  <tbody>\n",
       "    <tr>\n",
       "      <th>43</th>\n",
       "      <td>2017</td>\n",
       "      <td>Europe</td>\n",
       "      <td>0to2</td>\n",
       "    </tr>\n",
       "    <tr>\n",
       "      <th>50</th>\n",
       "      <td>2017</td>\n",
       "      <td>Asia</td>\n",
       "      <td>0to2</td>\n",
       "    </tr>\n",
       "    <tr>\n",
       "      <th>103</th>\n",
       "      <td>2017</td>\n",
       "      <td>North America</td>\n",
       "      <td>0to2</td>\n",
       "    </tr>\n",
       "    <tr>\n",
       "      <th>110</th>\n",
       "      <td>2017</td>\n",
       "      <td>Europe</td>\n",
       "      <td>0to2</td>\n",
       "    </tr>\n",
       "    <tr>\n",
       "      <th>141</th>\n",
       "      <td>2017</td>\n",
       "      <td>Europe</td>\n",
       "      <td>0to2</td>\n",
       "    </tr>\n",
       "  </tbody>\n",
       "</table>\n",
       "</div>"
      ],
      "text/plain": [
       "     Year      Continent YearsCoding\n",
       "43   2017         Europe        0to2\n",
       "50   2017           Asia        0to2\n",
       "103  2017  North America        0to2\n",
       "110  2017         Europe        0to2\n",
       "141  2017         Europe        0to2"
      ]
     },
     "metadata": {},
     "output_type": "display_data"
    }
   ],
   "source": [
    "# Melt coding years values so we can more easily count them later\n",
    "code_yrs_melt = melt_bool_cols_with_prefix(clean_df, ['Year', 'Continent'], 'YearsCoding', 'YearsCoding_')\n",
    "print('Melted version of dataset in which rows represent all the possible conding year ranges responses')\n",
    "print('Dimensions: ', code_yrs_melt.shape)\n",
    "display(code_yrs_melt.head())"
   ]
  },
  {
   "cell_type": "code",
   "execution_count": 39,
   "metadata": {},
   "outputs": [
    {
     "data": {
      "image/png": "[encoded data removed]",
      "text/plain": [
       "<Figure size 1526.97x720 with 8 Axes>"
      ]
     },
     "metadata": {
      "needs_background": "light"
     },
     "output_type": "display_data"
    }
   ],
   "source": [
    "# Count plot with the coding years ranges count breakdown across continents and years\n",
    "hue_order = ['0to2', '2to5', '5to8', '8to14', '14to20', '20orMore']\n",
    "fg = sns.catplot(x='Year', col=\"Continent\", hue=\"YearsCoding\", hue_order=hue_order, kind=\"count\", col_wrap=4,\n",
    "                 sharey=False, col_order=col_order, data=code_yrs_melt)\n",
    "fg.set_ylabels('Row count per range of coding years')\n",
    "plt.subplots_adjust(top=0.9)\n",
    "fg.fig.suptitle('Range of coding years breakdown per year for each continent');"
   ]
  },
  {
   "cell_type": "markdown",
   "metadata": {},
   "source": [
    "One thing that stands out to me is how the distribution of ranges seems to be bell shaped at times (2018 Europe), but other times it seems skewed left (2019 North America) or skewed right (2018 Asia). I was expecting to find distributions skewed right to be the dominant pattern as the years progress as an indication of more people entering the field worldwide, but maybe this makes sense after thinking about it some more. I've read about how [Asia](https://www.sc.com/en/trade-beyond-borders/emerging-asia-is-the-present-and-future-for-growth/) and [Africa](https://www.africa-business.com/features/africa-emerging-business.html) are observing some of the fastest economic growth around the world, so this could be a reflection of that. Care should be taken to conclude much about the overall population distribution thought, as the survey reach seems to be skewed to Western countries at the moment, indicated by the dominant sample sizes of both Europe and North America. Still, I find this to be an interesting result! "
   ]
  },
  {
   "cell_type": "markdown",
   "metadata": {},
   "source": [
    "### What are the most popular programming languages?\n",
    "\n",
    "As a Software Engineer, is part of my job to keep up with latest developments and that includes programming languages. I'm curious to learn about what are the most popular languages around the world according to the survey.\n",
    "\n",
    "I'll again melt the dataframe, in particular all the columns with a `Language_` prefix. Once that's done, I'll proceed to calculate the usage proportions of languages in each continent and year and then extract the top 5 from each group:"
   ]
  },
  {
   "cell_type": "code",
   "execution_count": 40,
   "metadata": {},
   "outputs": [
    {
     "name": "stdout",
     "output_type": "stream",
     "text": [
      "Melted version of dataset in which rows represent all the possible programming language responses\n",
      "Dimensions:  (716, 4)\n"
     ]
    },
    {
     "data": {
      "text/html": [
       "<div>\n",
       "<style scoped>\n",
       "    .dataframe tbody tr th:only-of-type {\n",
       "        vertical-align: middle;\n",
       "    }\n",
       "\n",
       "    .dataframe tbody tr th {\n",
       "        vertical-align: top;\n",
       "    }\n",
       "\n",
       "    .dataframe thead th {\n",
       "        text-align: right;\n",
       "    }\n",
       "</style>\n",
       "<table border=\"1\" class=\"dataframe\">\n",
       "  <thead>\n",
       "    <tr style=\"text-align: right;\">\n",
       "      <th></th>\n",
       "      <th>Year</th>\n",
       "      <th>Continent</th>\n",
       "      <th>Language</th>\n",
       "      <th>Proportion</th>\n",
       "    </tr>\n",
       "  </thead>\n",
       "  <tbody>\n",
       "    <tr>\n",
       "      <th>0</th>\n",
       "      <td>2017</td>\n",
       "      <td>Africa</td>\n",
       "      <td>Assembly</td>\n",
       "      <td>0.016444</td>\n",
       "    </tr>\n",
       "    <tr>\n",
       "      <th>1</th>\n",
       "      <td>2017</td>\n",
       "      <td>Africa</td>\n",
       "      <td>C</td>\n",
       "      <td>0.040645</td>\n",
       "    </tr>\n",
       "    <tr>\n",
       "      <th>2</th>\n",
       "      <td>2017</td>\n",
       "      <td>Africa</td>\n",
       "      <td>C#</td>\n",
       "      <td>0.093081</td>\n",
       "    </tr>\n",
       "    <tr>\n",
       "      <th>3</th>\n",
       "      <td>2017</td>\n",
       "      <td>Africa</td>\n",
       "      <td>C++</td>\n",
       "      <td>0.048402</td>\n",
       "    </tr>\n",
       "    <tr>\n",
       "      <th>4</th>\n",
       "      <td>2017</td>\n",
       "      <td>Africa</td>\n",
       "      <td>Clojure</td>\n",
       "      <td>0.001551</td>\n",
       "    </tr>\n",
       "  </tbody>\n",
       "</table>\n",
       "</div>"
      ],
      "text/plain": [
       "   Year Continent  Language  Proportion\n",
       "0  2017    Africa  Assembly    0.016444\n",
       "1  2017    Africa         C    0.040645\n",
       "2  2017    Africa        C#    0.093081\n",
       "3  2017    Africa       C++    0.048402\n",
       "4  2017    Africa   Clojure    0.001551"
      ]
     },
     "execution_count": 40,
     "metadata": {},
     "output_type": "execute_result"
    }
   ],
   "source": [
    "# Melt programming languages values and include a proportion column to plot them later\n",
    "lang_melt = melt_bool_cols_with_prefix(clean_df, ['Year', 'Continent'], 'Language', 'Language_')\n",
    "sizes = lang_melt.groupby(['Year', 'Continent', 'Language']).size()\n",
    "agg_lang_melt = sizes.div(sizes.groupby(['Year', 'Continent']).transform('sum')).reset_index().rename(columns={\n",
    "    0: 'Proportion',\n",
    "})\n",
    "print('Melted version of dataset in which rows represent all the possible programming language responses')\n",
    "print('Dimensions: ', agg_lang_melt.shape)\n",
    "agg_lang_melt.head()"
   ]
  },
  {
   "cell_type": "code",
   "execution_count": 41,
   "metadata": {},
   "outputs": [
    {
     "name": "stdout",
     "output_type": "stream",
     "text": [
      "Sample of the aggregated dataframe which is returning top 2 programming languages:\n"
     ]
    },
    {
     "data": {
      "text/html": [
       "<div>\n",
       "<style scoped>\n",
       "    .dataframe tbody tr th:only-of-type {\n",
       "        vertical-align: middle;\n",
       "    }\n",
       "\n",
       "    .dataframe tbody tr th {\n",
       "        vertical-align: top;\n",
       "    }\n",
       "\n",
       "    .dataframe thead th {\n",
       "        text-align: right;\n",
       "    }\n",
       "</style>\n",
       "<table border=\"1\" class=\"dataframe\">\n",
       "  <thead>\n",
       "    <tr style=\"text-align: right;\">\n",
       "      <th></th>\n",
       "      <th>Year</th>\n",
       "      <th>Continent</th>\n",
       "      <th>Language</th>\n",
       "      <th>Proportion</th>\n",
       "    </tr>\n",
       "  </thead>\n",
       "  <tbody>\n",
       "    <tr>\n",
       "      <th>698</th>\n",
       "      <td>2019</td>\n",
       "      <td>Undefined</td>\n",
       "      <td>HTML</td>\n",
       "      <td>0.137771</td>\n",
       "    </tr>\n",
       "    <tr>\n",
       "      <th>700</th>\n",
       "      <td>2019</td>\n",
       "      <td>Undefined</td>\n",
       "      <td>JavaScript</td>\n",
       "      <td>0.137771</td>\n",
       "    </tr>\n",
       "    <tr>\n",
       "      <th>672</th>\n",
       "      <td>2019</td>\n",
       "      <td>South America</td>\n",
       "      <td>JavaScript</td>\n",
       "      <td>0.148462</td>\n",
       "    </tr>\n",
       "    <tr>\n",
       "      <th>670</th>\n",
       "      <td>2019</td>\n",
       "      <td>South America</td>\n",
       "      <td>HTML</td>\n",
       "      <td>0.134511</td>\n",
       "    </tr>\n",
       "    <tr>\n",
       "      <th>644</th>\n",
       "      <td>2019</td>\n",
       "      <td>Oceania</td>\n",
       "      <td>JavaScript</td>\n",
       "      <td>0.139782</td>\n",
       "    </tr>\n",
       "  </tbody>\n",
       "</table>\n",
       "</div>"
      ],
      "text/plain": [
       "     Year      Continent    Language  Proportion\n",
       "698  2019      Undefined        HTML    0.137771\n",
       "700  2019      Undefined  JavaScript    0.137771\n",
       "672  2019  South America  JavaScript    0.148462\n",
       "670  2019  South America        HTML    0.134511\n",
       "644  2019        Oceania  JavaScript    0.139782"
      ]
     },
     "execution_count": 41,
     "metadata": {},
     "output_type": "execute_result"
    }
   ],
   "source": [
    "# Get an aggregated dataframe that allows to get top N represented programming languages per year and continent\n",
    "sorted_df = agg_lang_melt.sort_values(['Year', 'Continent', 'Proportion'], ascending=False)\n",
    "top_lang_agg = sorted_df.groupby(['Year', 'Continent'])\n",
    "\n",
    "print('Sample of the aggregated dataframe which is returning top 2 programming languages:')\n",
    "top_lang_agg.head(2).head()"
   ]
  },
  {
   "cell_type": "code",
   "execution_count": 42,
   "metadata": {},
   "outputs": [
    {
     "data": {
      "image/png": "[encoded data removed]",
      "text/plain": [
       "<Figure size 1531.22x720 with 8 Axes>"
      ]
     },
     "metadata": {
      "needs_background": "light"
     },
     "output_type": "display_data"
    }
   ],
   "source": [
    "# Top 3 languages per continents and year\n",
    "fg = sns.catplot(x='Year', y=\"Proportion\", col=\"Continent\", hue=\"Language\", kind=\"bar\", col_wrap=4,\n",
    "                 sharey=False, col_order=col_order, data=top_lang_agg.head(3))\n",
    "fg.set_ylabels('Proportion')\n",
    "plt.subplots_adjust(top=0.9)\n",
    "fg.fig.suptitle('Top 3 programming languages per year for each continent');"
   ]
  },
  {
   "cell_type": "markdown",
   "metadata": {},
   "source": [
    "From the survery perspective, it looks like Web has been king for the past 3 years! `Javascript` is one of the main languages used by Frontend Developers, and it has been on the top for the past 3 years across continents. `HTML` and `CSS` are also highly popular, which are also part of the Web development toolkit. `SQL` is language frequently used by Backend Web Developers, so is likely also an indication of Web popularity. Only during 2017 we can observe other general programming languages like `Java`, `C++`, `Python`."
   ]
  },
  {
   "cell_type": "markdown",
   "metadata": {},
   "source": [
    "## Conclusion\n",
    "\n",
    "I started this analysis with the hope of discovering diversity when looking at responses from a continent perspective, but I found they share more similarities than differences: \n",
    "\n",
    "- Looking at the number of responses from each of the continents for the past 3 years, I discovered most of them are coming from North America, Europe and Asia. But all continents observed the same trend: responses increased from 2017 to 2018, but from 2018 to 2019 they either stayed mostly the same or went down. Difficulty to reach the survey from some parts of the world might partly explain why responses went down on 2019 in certain continents.\n",
    "- While examining the distributions of gender's responses, I discovered that male is the largest group around the world by far, and it seems the degree of dominance is pretty similar across and it hasn't changed much in the past 3 years. When combining responses from non-male genders into a single group, one can easily notice that they haven't grown much. In fact, it looks like the group is actually becoming smaller in some places!\n",
    "- On the other hand, the distribution of coding year ranges offered the most diverse results I observed in my analysis. The distribution was bell shaped at times (2018 Europe), but other times it seems skewed left (2019 North America) or skewed right (2018 Asia).\n",
    "- Finally, I discovered that some of the most popular programming languages around the world are the ones used for Web Development: `Javascript`, `HTML/CSS`, and `SQL`. Only during 2017 we can observe other general programming languages like `Java`, `C++`, `Python` at the top.\n",
    "\n",
    "## Future Work\n",
    "\n",
    "As proposal for future work, here are some ideas:\n",
    "\n",
    "- I didn't apply [survey weighting](https://www.decisionanalyst.com/blog/dataweighting/) in this analysis. The [2019 Survey analysis](https://insights.stackoverflow.com/survey/2019#developer-roles) mentions it was applied to better reflect the underlying population distribution. This could offer a much better picture of the gender distribution reality.\n",
    "- Given the amount of programming languages, it might make sense to group them into categories that represent the role family which makes the most use of them. That way, we would likely visually trends across years more easily.\n",
    "- Extending some of the analysis to include more years could offer a better picture about the underlying trends.\n",
    "- The dataset generated from this analysis is already on a good path to be used for modeling. For example, we could potentially try to infer the job role with the data in place.\n",
    "- There are more questions that I think could be looked into. Here are some I find interesting:\n",
    "  - What sort of roles do respondents have? How much do they earn?\n",
    "  - How often do users visit Stack Overflow?\n",
    "  - What's the education level and professional background of respondents?\n",
    "  - What's the distribution of employment status?"
   ]
  }
 ],
 "metadata": {
  "kernelspec": {
   "display_name": "Python 3",
   "language": "python",
   "name": "python3"
  },
  "language_info": {
   "codemirror_mode": {
    "name": "ipython",
    "version": 3
   },
   "file_extension": ".py",
   "mimetype": "text/x-python",
   "name": "python",
   "nbconvert_exporter": "python",
   "pygments_lexer": "ipython3",
   "version": "3.7.5"
  }
 },
 "nbformat": 4,
 "nbformat_minor": 2
}
